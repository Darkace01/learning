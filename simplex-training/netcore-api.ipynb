{
 "cells": [
  {
   "attachments": {},
   "cell_type": "markdown",
   "metadata": {
    "dotnet_interactive": {
     "language": "csharp"
    },
    "polyglot_notebook": {
     "kernelName": "csharp"
    }
   },
   "source": [
    "### ASP.NET COre HTTP Request Pipeline\n",
    "\n",
    "The ASP.NET Core HTTP request pipeline is a series of middleware components that are invoked in a specific order. The pipeline is configured in the Startup class. The Startup class is where you configure the request pipeline and services that are used by your application. The request pipeline is configured by adding middleware components to an IApplicationBuilder instance that is provided by dependency injection.\n",
    "\n",
    "-> Request -> Middleware -> Response\n",
    "\n",
    "\n",
    "### Project Structure\n",
    "E-Commerce API\n",
    "\n",
    "- Token system to identify users\n",
    "- Using Reddis for caching\n",
    "\n",
    "\n",
    "#### Assignment\n",
    "write a a middleware that would check if the request header has x-api-key\n",
    "\n",
    "context.request.headers.containskey(\"x-api-key\")\n",
    "log header value"
   ]
  }
 ],
 "metadata": {
  "kernelspec": {
   "display_name": ".NET (C#)",
   "language": "C#",
   "name": ".net-csharp"
  },
  "polyglot_notebook": {
   "kernelInfo": {
    "defaultKernelName": "csharp",
    "items": [
     {
      "aliases": [
       "c#",
       "C#"
      ],
      "languageName": "C#",
      "name": "csharp"
     },
     {
      "aliases": [],
      "name": ".NET"
     },
     {
      "aliases": [
       "f#",
       "F#"
      ],
      "languageName": "F#",
      "name": "fsharp"
     },
     {
      "aliases": [],
      "languageName": "HTML",
      "name": "html"
     },
     {
      "aliases": [],
      "languageName": "KQL",
      "name": "kql"
     },
     {
      "aliases": [],
      "languageName": "Mermaid",
      "name": "mermaid"
     },
     {
      "aliases": [
       "powershell"
      ],
      "languageName": "PowerShell",
      "name": "pwsh"
     },
     {
      "aliases": [],
      "languageName": "SQL",
      "name": "sql"
     },
     {
      "aliases": [],
      "name": "value"
     },
     {
      "aliases": [
       "frontend"
      ],
      "name": "vscode"
     },
     {
      "aliases": [
       "js"
      ],
      "languageName": "JavaScript",
      "name": "javascript"
     },
     {
      "aliases": [],
      "name": "webview"
     }
    ]
   }
  }
 },
 "nbformat": 4,
 "nbformat_minor": 2
}
