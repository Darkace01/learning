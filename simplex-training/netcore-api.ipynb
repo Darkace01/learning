{
 "cells": [
  {
   "attachments": {},
   "cell_type": "markdown",
   "metadata": {},
   "source": [
    "### ASP.NET COre HTTP Request Pipeline\n",
    "\n",
    "The ASP.NET Core HTTP request pipeline is a series of middleware components that are invoked in a specific order. The pipeline is configured in the Startup class. The Startup class is where you configure the request pipeline and services that are used by your application. The request pipeline is configured by adding middleware components to an IApplicationBuilder instance that is provided by dependency injection.\n",
    "\n",
    "-> Request -> Middleware -> Response\n",
    "\n",
    "\n",
    "### Project Structure\n",
    "E-Commerce API\n",
    "\n",
    "- Token system to identify users\n",
    "- Using Reddis for caching\n",
    "\n",
    "\n",
    "#### Assignment\n",
    "write a a middleware that would check if the request header has x-api-key\n",
    "\n",
    "context.request.headers.containskey(\"x-api-key\")\n",
    "log header value"
   ]
  }
 ],
 "metadata": {
  "kernelspec": {
   "display_name": ".NET (C#)",
   "language": "C#",
   "name": ".net-csharp"
  },
  "language_info": {
   "name": "C#"
  },
  "orig_nbformat": 4
 },
 "nbformat": 4,
 "nbformat_minor": 2
}
