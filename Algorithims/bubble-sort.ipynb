{
 "cells": [
  {
   "cell_type": "code",
   "execution_count": 16,
   "metadata": {},
   "outputs": [
    {
     "name": "stdout",
     "output_type": "stream",
     "text": [
      "[\n",
      "  10, 15, 23, 2,   9,\n",
      "  28,  1, 36, 1, 100\n",
      "]\n"
     ]
    }
   ],
   "source": [
    "const bubbleSort = (arr) => {\n",
    "\n",
    "    for (let i = 0; i < arr.length - 1; i++) {\n",
    "        for (let j = 0; j < arr.length - i - 1; j++){\n",
    "            if (arr[j] > arr[j + 1]) {\n",
    "                swapped = true;\n",
    "                let temp = arr[j];\n",
    "                arr[j] = arr[j + 1];\n",
    "                arr[j + 1] = temp;\n",
    "            }\n",
    "        }\n",
    "    }\n",
    "    return arr;\n",
    "}\n",
    "let arr = [100, 10, 15, 23, 2, 9, 28, 1, 36, 1];\n",
    "bubbleSort(arr);"
   ]
  }
 ],
 "metadata": {
  "kernelspec": {
   "display_name": "JavaScript",
   "language": "javascript",
   "name": "jslab"
  },
  "language_info": {
   "file_extension": ".js",
   "mimetype": "text/javascript",
   "name": "javascript",
   "version": ""
  },
  "orig_nbformat": 4
 },
 "nbformat": 4,
 "nbformat_minor": 2
}
