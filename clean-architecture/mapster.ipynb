{
 "cells": [
  {
   "cell_type": "markdown",
   "metadata": {},
   "source": [
    "### Installing Mapster"
   ]
  },
  {
   "cell_type": "code",
   "execution_count": null,
   "metadata": {
    "dotnet_interactive": {
     "language": "csharp"
    },
    "polyglot_notebook": {
     "kernelName": "csharp"
    },
    "vscode": {
     "languageId": "polyglot-notebook"
    }
   },
   "outputs": [],
   "source": [
    "#r \"nuget:Mapster\""
   ]
  },
  {
   "cell_type": "markdown",
   "metadata": {},
   "source": [
    "### Initializing both the User and UserResponse classes"
   ]
  },
  {
   "cell_type": "code",
   "execution_count": null,
   "metadata": {
    "dotnet_interactive": {
     "language": "csharp"
    },
    "polyglot_notebook": {
     "kernelName": "csharp"
    },
    "vscode": {
     "languageId": "polyglot-notebook"
    }
   },
   "outputs": [],
   "source": [
    "public record User(int Id, string FirstName, string LastName);"
   ]
  },
  {
   "cell_type": "code",
   "execution_count": null,
   "metadata": {
    "dotnet_interactive": {
     "language": "csharp"
    },
    "polyglot_notebook": {
     "kernelName": "csharp"
    },
    "vscode": {
     "languageId": "polyglot-notebook"
    }
   },
   "outputs": [],
   "source": [
    "public record UserResponse(int Id, string FullName);"
   ]
  },
  {
   "cell_type": "code",
   "execution_count": null,
   "metadata": {
    "dotnet_interactive": {
     "language": "csharp"
    },
    "polyglot_notebook": {
     "kernelName": "csharp"
    },
    "vscode": {
     "languageId": "polyglot-notebook"
    }
   },
   "outputs": [],
   "source": [
    "public static class UserGenerator{\n",
    "    public static User GenerateRandom(){\n",
    "        return new User(1, \"John\", \"Doe\");\n",
    "    }\n",
    "}"
   ]
  },
  {
   "cell_type": "markdown",
   "metadata": {},
   "source": [
    "### Using Mapster for basic mapping"
   ]
  },
  {
   "cell_type": "code",
   "execution_count": null,
   "metadata": {
    "dotnet_interactive": {
     "language": "csharp"
    },
    "polyglot_notebook": {
     "kernelName": "csharp"
    },
    "vscode": {
     "languageId": "polyglot-notebook"
    }
   },
   "outputs": [],
   "source": [
    "using Mapster;\n",
    "\n",
    "var user = UserGenerator.GenerateRandom();\n",
    "\n",
    "var config = new TypeAdapterConfig();\n",
    "\n",
    "config.NewConfig<User, UserResponse>()\n",
    "    .Map(dest => dest.FullName, src => $\"{src.FirstName} {src.LastName}\");\n",
    "\n",
    "var userResponse = user.Adapt<UserResponse>(config);\n",
    "Console.WriteLine(user);\n",
    "Console.WriteLine(userResponse);"
   ]
  },
  {
   "cell_type": "markdown",
   "metadata": {},
   "source": [
    "### Using Mapster GlobalSettings for more advanced mapping"
   ]
  },
  {
   "cell_type": "code",
   "execution_count": null,
   "metadata": {
    "dotnet_interactive": {
     "language": "csharp"
    },
    "polyglot_notebook": {
     "kernelName": "csharp"
    },
    "vscode": {
     "languageId": "polyglot-notebook"
    }
   },
   "outputs": [],
   "source": [
    "using Mapster;\n",
    "\n",
    "var user2 = UserGenerator.GenerateRandom();\n",
    "\n",
    "var config = TypeAdapterConfig.GlobalSettings;\n",
    " \n",
    "config.NewConfig<User, UserResponse>()\n",
    "    .Map(dest => dest.FullName, src => $\"{src.FirstName} {src.LastName}\");\n",
    "\n",
    "var userResponse = user2.Adapt<UserResponse>();\n",
    "Console.WriteLine(user);\n",
    "Console.WriteLine(userResponse);"
   ]
  },
  {
   "cell_type": "code",
   "execution_count": null,
   "metadata": {
    "dotnet_interactive": {
     "language": "csharp"
    },
    "polyglot_notebook": {
     "kernelName": "csharp"
    },
    "vscode": {
     "languageId": "polyglot-notebook"
    }
   },
   "outputs": [],
   "source": [
    "using Mapster;\n",
    "\n",
    "var user = UserGenerator.GenerateRandom();\n",
    " \n",
    "TypeAdapterConfig<User, UserResponse>.NewConfig()\n",
    "    .Map(dest => dest.FullName, src => $\"{src.FirstName} {src.LastName}\");\n",
    "\n",
    "var userResponse = user.Adapt<UserResponse>();\n",
    "Console.WriteLine(user);\n",
    "Console.WriteLine(userResponse);"
   ]
  },
  {
   "cell_type": "code",
   "execution_count": null,
   "metadata": {
    "dotnet_interactive": {
     "language": "csharp"
    },
    "polyglot_notebook": {
     "kernelName": "csharp"
    },
    "vscode": {
     "languageId": "polyglot-notebook"
    }
   },
   "outputs": [],
   "source": [
    "using Mapster;\n",
    "\n",
    "var user = UserGenerator.GenerateRandom();\n",
    "\n",
    "var config = TypeAdapterConfig.GlobalSettings;\n",
    " \n",
    "TypeAdapterConfig<User, UserResponse>.NewConfig()\n",
    "    .Map(dest => dest.FullName, src => $\"{src.FirstName} {src.LastName}\");\n",
    "\n",
    "config.ForType<User, UserResponse>()\n",
    "    .Map(dest => dest.Id, src => src.Id + 1);\n",
    "var userResponse = user.Adapt<UserResponse>();\n",
    "Console.WriteLine(user);\n",
    "Console.WriteLine(userResponse);"
   ]
  },
  {
   "cell_type": "code",
   "execution_count": null,
   "metadata": {
    "dotnet_interactive": {
     "language": "csharp"
    },
    "polyglot_notebook": {
     "kernelName": "csharp"
    },
    "vscode": {
     "languageId": "polyglot-notebook"
    }
   },
   "outputs": [],
   "source": [
    "using Mapster;\n",
    "\n",
    "public record UserResponse(int Id, string FullName,string TraceId);\n",
    "\n",
    "var traceId = Guid.NewGuid();\n",
    "var user5 = UserGenerator.GenerateRandom();\n",
    "\n",
    "var config = TypeAdapterConfig.GlobalSettings;\n",
    " \n",
    "TypeAdapterConfig<(User User,Guid TraceId), UserResponse>.NewConfig()\n",
    "    .Map(dest => dest.TraceId, src => src.TraceId)\n",
    "    .Map(dest => dest, src => src.User)\n",
    "    .AfterMapping(dest => Console.WriteLine(dest));\n",
    "\n",
    "var userResponse = (user,traceId).Adapt<UserResponse>();\n",
    "Console.WriteLine(user);"
   ]
  },
  {
   "cell_type": "markdown",
   "metadata": {},
   "source": [
    "#### DesitinationType Config settings"
   ]
  },
  {
   "cell_type": "code",
   "execution_count": null,
   "metadata": {
    "dotnet_interactive": {
     "language": "csharp"
    },
    "polyglot_notebook": {
     "kernelName": "csharp"
    },
    "vscode": {
     "languageId": "polyglot-notebook"
    }
   },
   "outputs": [],
   "source": [
    "using Mapster;\n",
    "\n",
    "public record UserResponse(int Id, string FullName,string TraceId):IValidatable;\n",
    "\n",
    "var traceId = Guid.NewGuid();\n",
    "var user5 = UserGenerator.GenerateRandom();\n",
    "\n",
    "TypeAdapterConfig.GlobalSettings.Default.MapToConstructor(true);\n",
    "\n",
    "var config = TypeAdapterConfig.GlobalSettings;\n",
    " \n",
    "TypeAdapterConfig<(User User,Guid TraceId), UserResponse>.NewConfig()\n",
    "    .Map(dest => dest.TraceId, src => src.TraceId)\n",
    "    .Map(dest => dest, src => src.User)\n",
    "    .MapToConstructor(true);\n",
    "\n",
    "config.ForDestinationType<IValidatable>().AfterMapping(dest => dest.Validate());\n",
    "\n",
    "var userResponse = (user,traceId).Adapt<UserResponse>();\n",
    "\n",
    "Console.WriteLine(user);\n",
    "Console.WriteLine(userResponse);\n",
    "\n",
    "public interface IValidatable\n",
    "{\n",
    "    void Validate()\n",
    "    {\n",
    "        Console.WriteLine(\"Validating...\");\n",
    "    }\n",
    "}"
   ]
  },
  {
   "cell_type": "code",
   "execution_count": null,
   "metadata": {
    "dotnet_interactive": {
     "language": "csharp"
    },
    "polyglot_notebook": {
     "kernelName": "csharp"
    },
    "vscode": {
     "languageId": "polyglot-notebook"
    }
   },
   "outputs": [],
   "source": [
    "using MapsterMapper;\n",
    "\n",
    "var user = UserGenerator.GenerateRandom();\n",
    "\n",
    "IMapper mapper = new Mapper();\n",
    "\n",
    "var userResponse = mapper.Map<UserResponse>(user);\n",
    "\n",
    "Console.WriteLine(user);\n",
    "Console.WriteLine(userResponse);"
   ]
  }
 ],
 "metadata": {
  "language_info": {
   "name": "python"
  }
 },
 "nbformat": 4,
 "nbformat_minor": 2
}
