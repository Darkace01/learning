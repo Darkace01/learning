{
 "cells": [
  {
   "cell_type": "markdown",
   "metadata": {},
   "source": [
    "### Things to look out for in ef core\n",
    "- Entity identifier should be unique accross the whole system\n",
    "- Entity identifier should be unique withing the aggregate\n",
    "- Value object don't have an identifier\n",
    "- Changes to one aggregate shoudn't affect another aggregate"
   ]
  },
  {
   "cell_type": "markdown",
   "metadata": {},
   "source": [
    "#### Steps for mapping an aggregate to relational database\n",
    "1. Identify all the various tables\n",
    "2. Add all the various foreign keys used to reference other tables\n",
    "3. Adding all the various SQL constraints"
   ]
  },
  {
   "cell_type": "markdown",
   "metadata": {},
   "source": [
    "##### Owned Entity\n",
    "EF Core allows you to model entity types that can only ever appear on navigation properties of other entity types. These are called owned entity types. The entity containing an owned entity type is its owner. Owned entities are essentially a part of the owner entity and cannot exist without it."
   ]
  }
 ],
 "metadata": {
  "language_info": {
   "name": "python"
  }
 },
 "nbformat": 4,
 "nbformat_minor": 2
}
