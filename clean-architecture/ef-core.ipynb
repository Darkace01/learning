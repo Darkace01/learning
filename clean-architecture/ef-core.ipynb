{
 "cells": [
  {
   "cell_type": "markdown",
   "metadata": {},
   "source": [
    "### Things to look out for in ef core\n",
    "- Entity identifier should be unique accross the whole system\n",
    "- Entity identifier should be unique withing the aggregate\n",
    "- Value object don't have an identifier\n",
    "- Changes to one aggregate shoudn't affect another aggregate"
   ]
  }
 ],
 "metadata": {
  "language_info": {
   "name": "python"
  }
 },
 "nbformat": 4,
 "nbformat_minor": 2
}
