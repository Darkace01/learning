{
 "cells": [
  {
   "cell_type": "code",
   "execution_count": 7,
   "metadata": {},
   "outputs": [
    {
     "name": "stdout",
     "output_type": "stream",
     "text": [
      "Queue {\n",
      "  first: Node { value: 'Joy', next: Node { value: 'Matt', next: [Node] } },\n",
      "  last: Node { value: 'Samir', next: null },\n",
      "  length: 4\n",
      "}\n"
     ]
    }
   ],
   "source": [
    "class Node {\n",
    "  constructor(value) {\n",
    "    this.value = value;\n",
    "    this.next = null;\n",
    "  }\n",
    "}\n",
    "\n",
    "class Queue {\n",
    "  constructor() {\n",
    "    this.first = null;\n",
    "    this.last = null;\n",
    "    this.length = 0;\n",
    "  }\n",
    "\n",
    "  peek() {\n",
    "    return this.first;\n",
    "  }\n",
    "  enqueue(value) {\n",
    "    const newNode = new Node(value);\n",
    "    if (this.length === 0) {\n",
    "      this.first = newNode;\n",
    "      this.last = newNode;\n",
    "    } else {\n",
    "      this.last.next = newNode;\n",
    "      this.last = newNode;\n",
    "    }\n",
    "    this.length++;\n",
    "    return this;\n",
    "  }\n",
    "  dequeue() {\n",
    "    if (!this.first) {\n",
    "      return null;\n",
    "    }\n",
    "    if (this.first === this.last) {\n",
    "      this.last = null;\n",
    "    }\n",
    "    const holdingPointer = this.first.next;\n",
    "    this.first = holdingPointer;\n",
    "    this.length--;\n",
    "    return this;\n",
    "  }\n",
    "}\n",
    "\n",
    "const myQueue = new Queue();\n",
    "myQueue.enqueue('Joy');\n",
    "myQueue.enqueue('Matt');\n",
    "myQueue.enqueue('Pavel');\n",
    "myQueue.enqueue('Samir');\n",
    "\n"
   ]
  }
 ],
 "metadata": {
  "kernelspec": {
   "display_name": "JavaScript",
   "language": "javascript",
   "name": "jslab"
  },
  "language_info": {
   "file_extension": ".js",
   "mimetype": "text/javascript",
   "name": "javascript",
   "version": ""
  },
  "orig_nbformat": 4
 },
 "nbformat": 4,
 "nbformat_minor": 2
}
