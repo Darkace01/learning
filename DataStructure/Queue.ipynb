{
 "cells": [
  {
   "cell_type": "code",
   "execution_count": null,
   "metadata": {},
   "outputs": [],
   "source": [
    "class Node {\n",
    "  constructor(value) {\n",
    "    this.value = value;\n",
    "    this.next = null;\n",
    "  }\n",
    "}\n",
    "\n",
    "class Queue {\n",
    "  constructor() {\n",
    "    this.first = null;\n",
    "    this.last = null;\n",
    "    this.length = 0;\n",
    "  }\n",
    "\n",
    "  peek() {\n",
    "    return this.first;\n",
    "  }\n",
    "  enqueue(value) {\n",
    "    const newNode = new Node(value);\n",
    "    if (this.length === 0) {\n",
    "      this.first = newNode;\n",
    "      this.last = newNode;\n",
    "    } else {\n",
    "      const holdingPointer = this.last;\n",
    "      this.last = newNode;\n",
    "      this.first.next = holdingPointer;\n",
    "    }\n",
    "    this.length++;\n",
    "    return this;\n",
    "  }\n",
    "  dequeue() {\n",
    "    if (!this.first) {\n",
    "      return null;\n",
    "    }\n",
    "    if (this.first === this.last) {\n",
    "      this.last = null;\n",
    "    }\n",
    "    const holdingPointer = this.first.next;\n",
    "    this.first = holdingPointer;\n",
    "    this.length--;\n",
    "    return this;\n",
    "  }\n",
    "}\n",
    "\n",
    "const myQueue = new Queue();\n",
    "myQueue.enqueue('Joy');\n",
    "myQueue.enqueue('Matt');\n",
    "myQueue.enqueue('Pavel');\n",
    "myQueue.peek();\n",
    "myQueue.dequeue();\n"
   ]
  }
 ],
 "metadata": {
  "kernelspec": {
   "display_name": "JavaScript",
   "language": "javascript",
   "name": "jslab"
  },
  "language_info": {
   "file_extension": ".js",
   "mimetype": "text/javascript",
   "name": "javascript",
   "version": ""
  },
  "orig_nbformat": 4
 },
 "nbformat": 4,
 "nbformat_minor": 2
}
