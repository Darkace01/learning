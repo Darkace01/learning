{
 "cells": [
  {
   "cell_type": "markdown",
   "metadata": {},
   "source": [
    "# Array in javascript"
   ]
  },
  {
   "cell_type": "markdown",
   "metadata": {},
   "source": [
    "### Log All Pairs of Array Elements"
   ]
  },
  {
   "cell_type": "code",
   "execution_count": null,
   "metadata": {},
   "outputs": [],
   "source": [
    "const boxes = [1,2,3,4,5];\n",
    "const newBoxes = ['a','b','c','d'];\n",
    "\n",
    "function logAllPairsOfArray(array){\n",
    "    for (let i = 0; i < array.length; i++) {\n",
    "        for (let j = 0; j < array.length; j++) {\n",
    "            console.log(array[i],array[j]);\n",
    "        }\n",
    "    }\n",
    "}\n",
    "\n",
    "logAllPairsOfArray(newBoxes);\n",
    "\n",
    "//o(n^2) - Quadratic time"
   ]
  },
  {
   "cell_type": "code",
   "execution_count": null,
   "metadata": {
    "dotnet_interactive": {
     "language": "csharp"
    }
   },
   "outputs": [],
   "source": [
    "const strings = ['a','b','c','d'];"
   ]
  },
  {
   "cell_type": "markdown",
   "metadata": {},
   "source": [
    "### Look Up Array"
   ]
  },
  {
   "cell_type": "code",
   "execution_count": null,
   "metadata": {},
   "outputs": [],
   "source": [
    "console.log(strings[2]); //O(n)"
   ]
  },
  {
   "cell_type": "markdown",
   "metadata": {},
   "source": [
    "### Push"
   ]
  },
  {
   "cell_type": "code",
   "execution_count": null,
   "metadata": {},
   "outputs": [],
   "source": [
    "strings.push('e'); //O(1)\n",
    "\n",
    "console.log(strings);"
   ]
  },
  {
   "cell_type": "markdown",
   "metadata": {},
   "source": [
    "### Pop"
   ]
  },
  {
   "cell_type": "code",
   "execution_count": null,
   "metadata": {},
   "outputs": [],
   "source": [
    "strings.pop(); //O(1)\n",
    "\n",
    "console.log(strings);"
   ]
  },
  {
   "cell_type": "markdown",
   "metadata": {},
   "source": [
    "### Unshift"
   ]
  },
  {
   "cell_type": "code",
   "execution_count": null,
   "metadata": {},
   "outputs": [],
   "source": [
    "strings.unshift('f'); //O(1)\n",
    "\n",
    "console.log(strings);"
   ]
  },
  {
   "cell_type": "markdown",
   "metadata": {},
   "source": [
    "### Splice"
   ]
  },
  {
   "cell_type": "code",
   "execution_count": null,
   "metadata": {},
   "outputs": [],
   "source": [
    "strings.splice(2,0, 'alien'); //O(n)\n",
    "\n",
    "console.log(strings);"
   ]
  },
  {
   "cell_type": "markdown",
   "metadata": {},
   "source": [
    "### Sort"
   ]
  },
  {
   "cell_type": "code",
   "execution_count": null,
   "metadata": {},
   "outputs": [],
   "source": [
    "strings.sort(); //O(n log n)\n",
    "\n",
    "console.log(strings);"
   ]
  },
  {
   "cell_type": "markdown",
   "metadata": {},
   "source": [
    "## Reference Type In Javascript"
   ]
  },
  {
   "cell_type": "code",
   "execution_count": null,
   "metadata": {},
   "outputs": [],
   "source": [
    "console.log([] === []);\n",
    "\n",
    "var object1 = {value:10};\n",
    "var object2 = object1;\n",
    "var object3 = {value: 10};\n",
    "\n",
    "console.log(object1 === object2);\n",
    "console.log(object1 === object3);"
   ]
  },
  {
   "cell_type": "markdown",
   "metadata": {},
   "source": [
    "### Context vs Scope"
   ]
  },
  {
   "cell_type": "code",
   "execution_count": null,
   "metadata": {},
   "outputs": [],
   "source": [
    "//Scope\n",
    "function b() {\n",
    "    var a = 10;\n",
    "    return a;\n",
    "  }\n",
    "  b();\n",
    "  //console.log(a); <----- This would throw an error cause 'a' is withing the scope of the function and not outside it.\n",
    "  \n",
    "  // Context\n",
    "//   console.log(this);"
   ]
  },
  {
   "cell_type": "markdown",
   "metadata": {},
   "source": [
    "### Instantiation"
   ]
  },
  {
   "cell_type": "code",
   "execution_count": null,
   "metadata": {},
   "outputs": [],
   "source": [
    "class Player{\n",
    "    constructor(name, type){\n",
    "        console.log('palyer' , this);\n",
    "        this.name = name;\n",
    "        this.type = type;\n",
    "    }\n",
    "    introduce(){\n",
    "        console.log(`Hi I am ${this.name}, I'm a ${this.type}`);\n",
    "    }\n",
    "}\n",
    "\n",
    "class Wizard extends Player{\n",
    "    constructor(name,type){\n",
    "        super(name, type);\n",
    "        console.log('wizard', this);\n",
    "    }\n",
    "    play(){\n",
    "        console.log(`WEEEEE I'm a ${this.type}`);\n",
    "    }\n",
    "}\n",
    "\n",
    "const wizard1 = new Wizard('Harry', 'Wizard');\n",
    "const wizard2 = new Wizard('Hermione', 'Wizard');\n",
    "\n",
    "wizard1.play();\n",
    "wizard2.introduce();"
   ]
  },
  {
   "cell_type": "markdown",
   "metadata": {},
   "source": [
    "## Creating My array"
   ]
  },
  {
   "cell_type": "code",
   "execution_count": null,
   "metadata": {},
   "outputs": [],
   "source": [
    "class MyArray {\n",
    "    constructor() {\n",
    "        this.length = 0;\n",
    "        this.data = {};\n",
    "    }\n",
    "\n",
    "    get(index) {\n",
    "        return this.data[index];\n",
    "    }\n",
    "\n",
    "    push(item) {\n",
    "        this.data[this.length] = item;\n",
    "        this.length++;\n",
    "        return this.length;\n",
    "    }\n",
    "\n",
    "    pop() {\n",
    "        const lastItem = this.data[this.length - 1];\n",
    "        delete this.data[this.length - 1];\n",
    "        this.length--;\n",
    "        return lastItem;\n",
    "    }\n",
    "\n",
    "    delete(index) {\n",
    "        const item = this.data[index];\n",
    "        this.shiftItems(index);\n",
    "        return item;\n",
    "    }\n",
    "\n",
    "    shiftItems(index) {\n",
    "        for (let i = index; i < this.length - 1; i++) {\n",
    "            this.data[i] = this.data[i + 1];\n",
    "        }\n",
    "        delete this.data[this.length - 1];\n",
    "        this.length--;\n",
    "    }\n",
    "}\n",
    " \n",
    "const newArray = new MyArray();\n",
    "newArray.push('Hello');\n",
    "newArray.push('you');\n",
    "newArray.push('this');\n",
    "newArray.push('boy');\n",
    "newArray.push('!');\n",
    "newArray.pop();\n",
    "newArray.delete(2);\n",
    "newArray;"
   ]
  },
  {
   "cell_type": "markdown",
   "metadata": {},
   "source": [
    "## Excercise : Reverse A String"
   ]
  },
  {
   "cell_type": "code",
   "execution_count": null,
   "metadata": {},
   "outputs": [],
   "source": [
    "function reverseString(string) {\n",
    "    if (!string || string.length <2 || typeof string !== 'string') return 'hmm that is not good';\n",
    "\n",
    "    let newArray = string.split(''); //O(n)\n",
    "    newArray.reverse(); //O(n)\n",
    "    return newArray.join(''); //O(n)\n",
    "}\n",
    "reverseString('hello my name is kazeem quadri');"
   ]
  },
  {
   "cell_type": "code",
   "execution_count": null,
   "metadata": {},
   "outputs": [],
   "source": [
    "function reverseString(string) {\n",
    "    if (!string || string.length <2 || typeof string !== 'string') return 'hmm that is not good';\n",
    "\n",
    "    return string.split('').reverse().join(''); //O(n)\n",
    "}\n",
    "reverseString('hello my name is kazeem quadri');"
   ]
  },
  {
   "cell_type": "code",
   "execution_count": null,
   "metadata": {},
   "outputs": [],
   "source": [
    "//ES6 syntax\n",
    "const reverse3 = string => string.split('').reverse().join(''); //O(n)\n",
    "\n",
    "reverse3('hello my name is kazeem quadri');"
   ]
  },
  {
   "cell_type": "code",
   "execution_count": 1,
   "metadata": {},
   "outputs": [
    {
     "name": "stdout",
     "output_type": "stream",
     "text": [
      "irdauq meezak si eman ym olleh\n"
     ]
    }
   ],
   "source": [
    "//ES6 spread operator\n",
    "const reverse3 = string => [...string].reverse().join(''); //O(n)\n",
    "\n",
    "reverse3('hello my name is kazeem quadri');"
   ]
  },
  {
   "cell_type": "code",
   "execution_count": 2,
   "metadata": {},
   "outputs": [
    {
     "name": "stdout",
     "output_type": "stream",
     "text": [
      "gniod uoy era woH\n"
     ]
    }
   ],
   "source": [
    "function reverseString2(string) {\n",
    "    if (!string || string.length <2 || typeof string !== 'string') return 'hmm that is not good';\n",
    "    let newString = '';\n",
    "    for (let i = string.length -1; i >= 0; i--) { //O(n)\n",
    "        newString += string[i];\n",
    "    }\n",
    "    return newString;\n",
    "}\n",
    "reverseString2('How are you doing');"
   ]
  },
  {
   "cell_type": "markdown",
   "metadata": {},
   "source": [
    "## Excercise : Merge Sorted Two Arrays"
   ]
  },
  {
   "cell_type": "code",
   "execution_count": null,
   "metadata": {},
   "outputs": [],
   "source": [
    "// [0,3,4,31]\n",
    "// [4,6,30]\n",
    "// -> [0,3,4,4,6,30,31]\n",
    "\n",
    "function mergeSortedArray(array1, array2) {\n",
    "    if (array1.length === 0 || array2.length === 0) return \"Opps\";\n",
    "    let sortedArray = [];\n",
    "    for (let i = 0; i <= array1.length - 1; i++) {\n",
    "        sortedArray.push(array1[i]);\n",
    "    }\n",
    "\n",
    "    for (let i = 0; i <= array2.length - 1; i++) {\n",
    "        sortedArray.push(array2[i]);\n",
    "    }\n",
    "    return sortedArray.sort((a, b) => a - b);\n",
    "}\n",
    "\n",
    "mergeSortedArray([0, 3, 4, 31], [4, 6, 30]);"
   ]
  },
  {
   "cell_type": "code",
   "execution_count": null,
   "metadata": {},
   "outputs": [],
   "source": [
    "// [0,3,4,31]\n",
    "// [4,6,30]\n",
    "// -> [0,3,4,4,6,30,31]\n",
    "\n",
    "function mergeSortedArray(array1, array2) {\n",
    "    const mergedArray = [];\n",
    "    let array1Item = array1[0];\n",
    "    let array2Item = array2[0];\n",
    "    let i = 1;\n",
    "    let j = 1;\n",
    "\n",
    "    //check input\n",
    "    if (array1.length === 0) return array2;\n",
    "    if (array2.length === 0) return array1;\n",
    "\n",
    "    while (array1Item || array2Item) {\n",
    "        // console.log(array1Item,array2Item);\n",
    "        if (!array2Item || array1Item < array2Item) {\n",
    "            mergedArray.push(array1Item);\n",
    "            array1Item = array1[i];\n",
    "            i++;\n",
    "        } else {\n",
    "            mergedArray.push(array2Item);\n",
    "            array2Item = array2[j];\n",
    "            j++;\n",
    "        }\n",
    "    }\n",
    "\n",
    "    return mergedArray;\n",
    "}\n",
    "\n",
    "mergeSortedArray([0, 3, 4, 31], [4, 6, 30]);"
   ]
  }
 ],
 "metadata": {
  "kernelspec": {
   "display_name": "JavaScript",
   "language": "javascript",
   "name": "jslab"
  },
  "language_info": {
   "file_extension": ".js",
   "mimetype": "text/javascript",
   "name": "javascript",
   "version": ""
  },
  "orig_nbformat": 4
 },
 "nbformat": 4,
 "nbformat_minor": 2
}
