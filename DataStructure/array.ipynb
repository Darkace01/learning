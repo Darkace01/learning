{
 "cells": [
  {
   "cell_type": "markdown",
   "source": [
    "# Array in javascript"
   ],
   "metadata": {}
  },
  {
   "cell_type": "code",
   "execution_count": 4,
   "source": [
    "const strings = ['a','b','c','d'];"
   ],
   "outputs": [],
   "metadata": {
    "dotnet_interactive": {
     "language": "csharp"
    }
   }
  },
  {
   "cell_type": "markdown",
   "source": [
    "### Look Up Array"
   ],
   "metadata": {}
  },
  {
   "cell_type": "code",
   "execution_count": 5,
   "source": [
    "console.log(strings[2]); //O(n)"
   ],
   "outputs": [
    {
     "output_type": "stream",
     "name": "stdout",
     "text": [
      "c\n"
     ]
    }
   ],
   "metadata": {}
  },
  {
   "cell_type": "markdown",
   "source": [
    "### Push"
   ],
   "metadata": {}
  },
  {
   "cell_type": "code",
   "execution_count": 6,
   "source": [
    "strings.push('e'); //O(1)\r\n",
    "\r\n",
    "console.log(strings);"
   ],
   "outputs": [
    {
     "output_type": "stream",
     "name": "stdout",
     "text": [
      "[ 'a', 'b', 'c', 'd', 'e' ]\n"
     ]
    }
   ],
   "metadata": {}
  },
  {
   "cell_type": "markdown",
   "source": [
    "### Pop"
   ],
   "metadata": {}
  },
  {
   "cell_type": "code",
   "execution_count": 7,
   "source": [
    "strings.pop(); //O(1)\r\n",
    "\r\n",
    "console.log(strings);"
   ],
   "outputs": [
    {
     "output_type": "stream",
     "name": "stdout",
     "text": [
      "[ 'a', 'b', 'c', 'd' ]\n"
     ]
    }
   ],
   "metadata": {}
  },
  {
   "cell_type": "markdown",
   "source": [
    "### Unshift"
   ],
   "metadata": {}
  },
  {
   "cell_type": "code",
   "execution_count": null,
   "source": [
    "strings.unshift('f'); //O(1)\r\n",
    "\r\n",
    "console.log(strings);"
   ],
   "outputs": [],
   "metadata": {}
  },
  {
   "cell_type": "markdown",
   "source": [
    "### Splice"
   ],
   "metadata": {}
  },
  {
   "cell_type": "code",
   "execution_count": null,
   "source": [
    "strings.splice(2,0, 'alien'); //O(n)\r\n",
    "\r\n",
    "console.log(strings);"
   ],
   "outputs": [],
   "metadata": {}
  },
  {
   "cell_type": "markdown",
   "source": [
    "### Sort"
   ],
   "metadata": {}
  },
  {
   "cell_type": "code",
   "execution_count": null,
   "source": [
    "strings.sort(); //O(n log n)\r\n",
    "\r\n",
    "console.log(strings);"
   ],
   "outputs": [],
   "metadata": {}
  },
  {
   "cell_type": "markdown",
   "source": [
    "## Reference Type In Javascript"
   ],
   "metadata": {}
  },
  {
   "cell_type": "code",
   "execution_count": 8,
   "source": [
    "console.log([] === []);\r\n",
    "\r\n",
    "var object1 = {value:10};\r\n",
    "var object2 = object1;\r\n",
    "var object3 = {value: 10};\r\n",
    "\r\n",
    "console.log(object1 === object2);\r\n",
    "console.log(object1 === object3);"
   ],
   "outputs": [
    {
     "output_type": "stream",
     "name": "stdout",
     "text": [
      "false\n",
      "true\n",
      "false\n"
     ]
    }
   ],
   "metadata": {}
  },
  {
   "cell_type": "markdown",
   "source": [
    "### Context vs Scope"
   ],
   "metadata": {}
  },
  {
   "cell_type": "code",
   "execution_count": 10,
   "source": [
    "//Scope\r\n",
    "function b() {\r\n",
    "    var a = 10;\r\n",
    "    console.log(a);\r\n",
    "  }\r\n",
    "  b();\r\n",
    "  //console.log(a); <----- This would throw an error cause 'a' is withing the scope of the function and not outside it.\r\n",
    "  \r\n",
    "  // Context\r\n",
    "//   console.log(this);"
   ],
   "outputs": [
    {
     "output_type": "stream",
     "name": "stdout",
     "text": [
      "10\n"
     ]
    }
   ],
   "metadata": {}
  },
  {
   "cell_type": "markdown",
   "source": [
    "### Instantiation"
   ],
   "metadata": {}
  },
  {
   "cell_type": "code",
   "execution_count": 11,
   "source": [
    "class Player{\r\n",
    "    constructor(name, type){\r\n",
    "        console.log('palyer' , this);\r\n",
    "        this.name = name;\r\n",
    "        this.type = type;\r\n",
    "    }\r\n",
    "    introduce(){\r\n",
    "        console.log(`Hi I am ${this.name}, I'm a ${this.type}`);\r\n",
    "    }\r\n",
    "}\r\n",
    "\r\n",
    "class Wizard extends Player{\r\n",
    "    constructor(name,type){\r\n",
    "        super(name, type);\r\n",
    "        console.log('wizard', this);\r\n",
    "    }\r\n",
    "    play(){\r\n",
    "        console.log(`WEEEEE I'm a ${this.type}`);\r\n",
    "    }\r\n",
    "}\r\n",
    "\r\n",
    "const wizard1 = new Wizard('Harry', 'Wizard');\r\n",
    "const wizard2 = new Wizard('Hermione', 'Wizard');\r\n",
    "\r\n",
    "wizard1.play();\r\n",
    "wizard2.introduce();"
   ],
   "outputs": [
    {
     "output_type": "stream",
     "name": "stdout",
     "text": [
      "palyer Wizard {}\n",
      "wizard Wizard { name: 'Harry', type: 'Wizard' }\n",
      "palyer Wizard {}\n",
      "wizard Wizard { name: 'Hermione', type: 'Wizard' }\n",
      "WEEEEE I'm a Wizard\n",
      "Hi I am Hermione, I'm a Wizard\n"
     ]
    }
   ],
   "metadata": {}
  },
  {
   "cell_type": "markdown",
   "source": [
    "## Creating My array"
   ],
   "metadata": {}
  },
  {
   "cell_type": "code",
   "execution_count": 12,
   "source": [
    "class MyArray {\r\n",
    "    constructor() {\r\n",
    "        this.length = 0;\r\n",
    "        this.data = {};\r\n",
    "    }\r\n",
    "\r\n",
    "    get(index) {\r\n",
    "        return this.data[index];\r\n",
    "    }\r\n",
    "\r\n",
    "    push(item) {\r\n",
    "        this.data[this.length] = item;\r\n",
    "        this.length++;\r\n",
    "        return this.length;\r\n",
    "    }\r\n",
    "\r\n",
    "    pop() {\r\n",
    "        const lastItem = this.data[this.length - 1];\r\n",
    "        delete this.data[this.length - 1];\r\n",
    "    }\r\n",
    "}\r\n",
    " \r\n",
    "const newArray = new MyArray();\r\n",
    "newArray.push('Hello');\r\n",
    "console.log(newArray);"
   ],
   "outputs": [
    {
     "output_type": "stream",
     "name": "stdout",
     "text": [
      "MyArray { length: 1, data: { '0': 'Hello' } }\n"
     ]
    }
   ],
   "metadata": {}
  }
 ],
 "metadata": {
  "orig_nbformat": 4,
  "language_info": {
   "name": "javascript",
   "version": "",
   "mimetype": "text/javascript",
   "file_extension": ".js"
  },
  "kernelspec": {
   "display_name": "JavaScript",
   "language": "javascript",
   "name": "jslab"
  }
 },
 "nbformat": 4,
 "nbformat_minor": 2
}