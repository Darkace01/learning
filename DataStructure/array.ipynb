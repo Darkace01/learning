{
 "cells": [
  {
   "cell_type": "markdown",
   "source": [
    "# Array in javascript"
   ],
   "metadata": {}
  },
  {
   "cell_type": "markdown",
   "source": [
    "### Log All Pairs of Array Elements"
   ],
   "metadata": {}
  },
  {
   "cell_type": "code",
   "execution_count": 31,
   "source": [
    "const boxes = [1,2,3,4,5,6,7,8];\r\n",
    "const newBoxes = ['a','b','c','d','e','f','g','h'];\r\n",
    "\r\n",
    "function logAllPairsOfArray(array){\r\n",
    "    for (let i = 0; i < array.length; i++) {\r\n",
    "        for (let j = 0; j < array.length; j++) {\r\n",
    "            console.log(array[i],array[j]);\r\n",
    "        }\r\n",
    "    }\r\n",
    "}\r\n",
    "\r\n",
    "logAllPairsOfArray(newBoxes);\r\n",
    "\r\n",
    "//o(n^2) - Quadratic time"
   ],
   "outputs": [
    {
     "output_type": "stream",
     "name": "stdout",
     "text": [
      "a a\n",
      "a b\n",
      "a c\n",
      "a d\n",
      "a e\n",
      "a f\n",
      "a g\n",
      "a h\n",
      "b a\n",
      "b b\n",
      "b c\n",
      "b d\n",
      "b e\n",
      "b f\n",
      "b g\n",
      "b h\n",
      "c a\n",
      "c b\n",
      "c c\n",
      "c d\n",
      "c e\n",
      "c f\n",
      "c g\n",
      "c h\n",
      "d a\n",
      "d b\n",
      "d c\n",
      "d d\n",
      "d e\n",
      "d f\n",
      "d g\n",
      "d h\n",
      "e a\n",
      "e b\n",
      "e c\n",
      "e d\n",
      "e e\n",
      "e f\n",
      "e g\n",
      "e h\n",
      "f a\n",
      "f b\n",
      "f c\n",
      "f d\n",
      "f e\n",
      "f f\n",
      "f g\n",
      "f h\n",
      "g a\n",
      "g b\n",
      "g c\n",
      "g d\n",
      "g e\n",
      "g f\n",
      "g g\n",
      "g h\n",
      "h a\n",
      "h b\n",
      "h c\n",
      "h d\n",
      "h e\n",
      "h f\n",
      "h g\n",
      "h h\n"
     ]
    }
   ],
   "metadata": {}
  },
  {
   "cell_type": "code",
   "execution_count": 32,
   "source": [
    "const strings = ['a','b','c','d'];"
   ],
   "outputs": [],
   "metadata": {
    "dotnet_interactive": {
     "language": "csharp"
    }
   }
  },
  {
   "cell_type": "markdown",
   "source": [
    "### Look Up Array"
   ],
   "metadata": {}
  },
  {
   "cell_type": "code",
   "execution_count": 33,
   "source": [
    "console.log(strings[2]); //O(n)"
   ],
   "outputs": [
    {
     "output_type": "stream",
     "name": "stdout",
     "text": [
      "c\n"
     ]
    }
   ],
   "metadata": {}
  },
  {
   "cell_type": "markdown",
   "source": [
    "### Push"
   ],
   "metadata": {}
  },
  {
   "cell_type": "code",
   "execution_count": 34,
   "source": [
    "strings.push('e'); //O(1)\r\n",
    "\r\n",
    "console.log(strings);"
   ],
   "outputs": [
    {
     "output_type": "stream",
     "name": "stdout",
     "text": [
      "[ 'a', 'b', 'c', 'd', 'e' ]\n"
     ]
    }
   ],
   "metadata": {}
  },
  {
   "cell_type": "markdown",
   "source": [
    "### Pop"
   ],
   "metadata": {}
  },
  {
   "cell_type": "code",
   "execution_count": 35,
   "source": [
    "strings.pop(); //O(1)\r\n",
    "\r\n",
    "console.log(strings);"
   ],
   "outputs": [
    {
     "output_type": "stream",
     "name": "stdout",
     "text": [
      "[ 'a', 'b', 'c', 'd' ]\n"
     ]
    }
   ],
   "metadata": {}
  },
  {
   "cell_type": "markdown",
   "source": [
    "### Unshift"
   ],
   "metadata": {}
  },
  {
   "cell_type": "code",
   "execution_count": 36,
   "source": [
    "strings.unshift('f'); //O(1)\r\n",
    "\r\n",
    "console.log(strings);"
   ],
   "outputs": [
    {
     "output_type": "stream",
     "name": "stdout",
     "text": [
      "[ 'f', 'a', 'b', 'c', 'd' ]\n"
     ]
    }
   ],
   "metadata": {}
  },
  {
   "cell_type": "markdown",
   "source": [
    "### Splice"
   ],
   "metadata": {}
  },
  {
   "cell_type": "code",
   "execution_count": 37,
   "source": [
    "strings.splice(2,0, 'alien'); //O(n)\r\n",
    "\r\n",
    "console.log(strings);"
   ],
   "outputs": [
    {
     "output_type": "stream",
     "name": "stdout",
     "text": [
      "[ 'f', 'a', 'alien', 'b', 'c', 'd' ]\n"
     ]
    }
   ],
   "metadata": {}
  },
  {
   "cell_type": "markdown",
   "source": [
    "### Sort"
   ],
   "metadata": {}
  },
  {
   "cell_type": "code",
   "execution_count": 38,
   "source": [
    "strings.sort(); //O(n log n)\r\n",
    "\r\n",
    "console.log(strings);"
   ],
   "outputs": [
    {
     "output_type": "stream",
     "name": "stdout",
     "text": [
      "[ 'a', 'alien', 'b', 'c', 'd', 'f' ]\n"
     ]
    }
   ],
   "metadata": {}
  },
  {
   "cell_type": "markdown",
   "source": [
    "## Reference Type In Javascript"
   ],
   "metadata": {}
  },
  {
   "cell_type": "code",
   "execution_count": 39,
   "source": [
    "console.log([] === []);\r\n",
    "\r\n",
    "var object1 = {value:10};\r\n",
    "var object2 = object1;\r\n",
    "var object3 = {value: 10};\r\n",
    "\r\n",
    "console.log(object1 === object2);\r\n",
    "console.log(object1 === object3);"
   ],
   "outputs": [
    {
     "output_type": "stream",
     "name": "stdout",
     "text": [
      "false\n",
      "true\n",
      "false\n"
     ]
    }
   ],
   "metadata": {}
  },
  {
   "cell_type": "markdown",
   "source": [
    "### Context vs Scope"
   ],
   "metadata": {}
  },
  {
   "cell_type": "code",
   "execution_count": 66,
   "source": [
    "//Scope\r\n",
    "function b() {\r\n",
    "    var a = 10;\r\n",
    "    return a;\r\n",
    "  }\r\n",
    "  b();\r\n",
    "  //console.log(a); <----- This would throw an error cause 'a' is withing the scope of the function and not outside it.\r\n",
    "  \r\n",
    "  // Context\r\n",
    "//   console.log(this);"
   ],
   "outputs": [
    {
     "output_type": "stream",
     "name": "stdout",
     "text": [
      "10\n"
     ]
    }
   ],
   "metadata": {}
  },
  {
   "cell_type": "markdown",
   "source": [
    "### Instantiation"
   ],
   "metadata": {}
  },
  {
   "cell_type": "code",
   "execution_count": 41,
   "source": [
    "class Player{\r\n",
    "    constructor(name, type){\r\n",
    "        console.log('palyer' , this);\r\n",
    "        this.name = name;\r\n",
    "        this.type = type;\r\n",
    "    }\r\n",
    "    introduce(){\r\n",
    "        console.log(`Hi I am ${this.name}, I'm a ${this.type}`);\r\n",
    "    }\r\n",
    "}\r\n",
    "\r\n",
    "class Wizard extends Player{\r\n",
    "    constructor(name,type){\r\n",
    "        super(name, type);\r\n",
    "        console.log('wizard', this);\r\n",
    "    }\r\n",
    "    play(){\r\n",
    "        console.log(`WEEEEE I'm a ${this.type}`);\r\n",
    "    }\r\n",
    "}\r\n",
    "\r\n",
    "const wizard1 = new Wizard('Harry', 'Wizard');\r\n",
    "const wizard2 = new Wizard('Hermione', 'Wizard');\r\n",
    "\r\n",
    "wizard1.play();\r\n",
    "wizard2.introduce();"
   ],
   "outputs": [
    {
     "output_type": "stream",
     "name": "stdout",
     "text": [
      "palyer Wizard {}\n",
      "wizard Wizard { name: 'Harry', type: 'Wizard' }\n",
      "palyer Wizard {}\n",
      "wizard Wizard { name: 'Hermione', type: 'Wizard' }\n",
      "WEEEEE I'm a Wizard\n",
      "Hi I am Hermione, I'm a Wizard\n"
     ]
    }
   ],
   "metadata": {}
  },
  {
   "cell_type": "markdown",
   "source": [
    "## Creating My array"
   ],
   "metadata": {}
  },
  {
   "cell_type": "code",
   "execution_count": 65,
   "source": [
    "class MyArray {\r\n",
    "    constructor() {\r\n",
    "        this.length = 0;\r\n",
    "        this.data = {};\r\n",
    "    }\r\n",
    "\r\n",
    "    get(index) {\r\n",
    "        return this.data[index];\r\n",
    "    }\r\n",
    "\r\n",
    "    push(item) {\r\n",
    "        this.data[this.length] = item;\r\n",
    "        this.length++;\r\n",
    "        return this.length;\r\n",
    "    }\r\n",
    "\r\n",
    "    pop() {\r\n",
    "        const lastItem = this.data[this.length - 1];\r\n",
    "        delete this.data[this.length - 1];\r\n",
    "        this.length--;\r\n",
    "        return lastItem;\r\n",
    "    }\r\n",
    "\r\n",
    "    delete(index) {\r\n",
    "        const item = this.data[index];\r\n",
    "        this.shiftItems(index);\r\n",
    "        return item;\r\n",
    "    }\r\n",
    "\r\n",
    "    shiftItems(index) {\r\n",
    "        for (let i = index; i < this.length - 1; i++) {\r\n",
    "            this.data[i] = this.data[i + 1];\r\n",
    "        }\r\n",
    "        delete this.data[this.length - 1];\r\n",
    "        this.length--;\r\n",
    "    }\r\n",
    "}\r\n",
    " \r\n",
    "const newArray = new MyArray();\r\n",
    "newArray.push('Hello');\r\n",
    "newArray.push('you');\r\n",
    "newArray.push('this');\r\n",
    "newArray.push('boy');\r\n",
    "newArray.push('!');\r\n",
    "newArray.pop();\r\n",
    "newArray.delete(2);\r\n",
    "newArray;"
   ],
   "outputs": [
    {
     "output_type": "stream",
     "name": "stdout",
     "text": [
      "MyArray { length: 3, data: { '0': 'Hello', '1': 'you', '2': 'boy' } }\n"
     ]
    }
   ],
   "metadata": {}
  },
  {
   "cell_type": "markdown",
   "source": [
    "## Excercise : Reverse A String"
   ],
   "metadata": {}
  },
  {
   "cell_type": "code",
   "execution_count": 64,
   "source": [
    "function reverseString(string) {\r\n",
    "    if (!string || string.length <2 || typeof string !== 'string') return 'hmm that is not good';\r\n",
    "\r\n",
    "    let newArray = string.split(''); //O(n)\r\n",
    "    newArray.reverse(); //O(n)\r\n",
    "    return newArray.join(''); //O(n)\r\n",
    "}\r\n",
    "reverseString('hello my name is kazeem quadri');"
   ],
   "outputs": [
    {
     "output_type": "stream",
     "name": "stdout",
     "text": [
      "irdauq meezak si eman ym olleh\n"
     ]
    }
   ],
   "metadata": {}
  },
  {
   "cell_type": "code",
   "execution_count": 63,
   "source": [
    "function reverseString(string) {\r\n",
    "    if (!string || string.length <2 || typeof string !== 'string') return 'hmm that is not good';\r\n",
    "\r\n",
    "    return string.split('').reverse().join(''); //O(n)\r\n",
    "}\r\n",
    "reverseString('hello my name is kazeem quadri');"
   ],
   "outputs": [
    {
     "output_type": "stream",
     "name": "stdout",
     "text": [
      "irdauq meezak si eman ym olleh\n"
     ]
    }
   ],
   "metadata": {}
  },
  {
   "cell_type": "code",
   "execution_count": 62,
   "source": [
    "//ES6 syntax\r\n",
    "const reverse3 = string => string.split('').reverse().join(''); //O(n)\r\n",
    "\r\n",
    "reverse3('hello my name is kazeem quadri');"
   ],
   "outputs": [
    {
     "output_type": "stream",
     "name": "stdout",
     "text": [
      "irdauq meezak si eman ym olleh\n"
     ]
    }
   ],
   "metadata": {}
  },
  {
   "cell_type": "code",
   "execution_count": 61,
   "source": [
    "//ES6 spread operator\r\n",
    "const reverse3 = string => [...string].reverse().join(''); //O(n)\r\n",
    "\r\n",
    "reverse3('hello my name is kazeem quadri');"
   ],
   "outputs": [
    {
     "output_type": "stream",
     "name": "stdout",
     "text": [
      "irdauq meezak si eman ym olleh\n"
     ]
    }
   ],
   "metadata": {}
  },
  {
   "cell_type": "code",
   "execution_count": 60,
   "source": [
    "function reverseString2(string) {\r\n",
    "    if (!string || string.length <2 || typeof string !== 'string') return 'hmm that is not good';\r\n",
    "    let newString = '';\r\n",
    "    for (let i = string.length -1; i >= 0; i--) { //O(n)\r\n",
    "        newString += string[i];\r\n",
    "    }\r\n",
    "    return newString;\r\n",
    "}\r\n",
    "reverseString2('How are you doing');"
   ],
   "outputs": [
    {
     "output_type": "stream",
     "name": "stdout",
     "text": [
      "gniod uoy era woH\n"
     ]
    }
   ],
   "metadata": {}
  },
  {
   "cell_type": "markdown",
   "source": [
    "## Excercise : Merge Sorted Two Arrays"
   ],
   "metadata": {}
  },
  {
   "cell_type": "code",
   "execution_count": 4,
   "source": [
    "// [0,3,4,31]\r\n",
    "// [4,6,30]\r\n",
    "// -> [0,3,4,4,6,30,31]\r\n",
    "\r\n",
    "function mergeSortedArray(array1, array2) {\r\n",
    "    if (array1.length === 0 || array2.length === 0) return \"Opps\";\r\n",
    "    let sortedArray = [];\r\n",
    "    for (let i = 0; i <= array1.length - 1; i++) {\r\n",
    "        sortedArray.push(array1[i]);\r\n",
    "    }\r\n",
    "\r\n",
    "    for (let i = 0; i <= array2.length - 1; i++) {\r\n",
    "        sortedArray.push(array2[i]);\r\n",
    "    }\r\n",
    "    console.log(sortedArray);\r\n",
    "    return sortedArray.sort((a, b) => a - b);\r\n",
    "}\r\n",
    "\r\n",
    "mergeSortedArray([0, 3, 4, 31], [4, 6, 30]);"
   ],
   "outputs": [
    {
     "output_type": "stream",
     "name": "stdout",
     "text": [
      "[\n",
      "  0, 3,  4, 31,\n",
      "  4, 6, 30\n",
      "]\n",
      "[\n",
      "  0,  3,  4, 4,\n",
      "  6, 30, 31\n",
      "]\n"
     ]
    }
   ],
   "metadata": {}
  },
  {
   "cell_type": "code",
   "execution_count": 5,
   "source": [
    "// [0,3,4,31]\r\n",
    "// [4,6,30]\r\n",
    "// -> [0,3,4,4,6,30,31]\r\n",
    "\r\n",
    "function mergeSortedArray(array1, array2) {\r\n",
    "    const mergedArray = [];\r\n",
    "    let array1Item = array1[0];\r\n",
    "    let array2Item = array2[0];\r\n",
    "    let i = 1;\r\n",
    "    let j = 1;\r\n",
    "\r\n",
    "    //check input\r\n",
    "    if (array1.length === 0) return array2;\r\n",
    "    if (array2.length === 0) return array1;\r\n",
    "\r\n",
    "    while (array1Item || array2Item) {\r\n",
    "        // console.log(array1Item,array2Item);\r\n",
    "        if (!array2Item || array1Item < array2Item) {\r\n",
    "            mergedArray.push(array1Item);\r\n",
    "            array1Item = array1[i];\r\n",
    "            i++;\r\n",
    "        } else {\r\n",
    "            mergedArray.push(array2Item);\r\n",
    "            array2Item = array2[j];\r\n",
    "            j++;\r\n",
    "        }\r\n",
    "    }\r\n",
    "\r\n",
    "    return mergedArray;\r\n",
    "}\r\n",
    "\r\n",
    "mergeSortedArray([0, 3, 4, 31], [4, 6, 30]);"
   ],
   "outputs": [
    {
     "output_type": "stream",
     "name": "stdout",
     "text": [
      "[\n",
      "  0,  3,  4, 4,\n",
      "  6, 30, 31\n",
      "]\n"
     ]
    }
   ],
   "metadata": {}
  }
 ],
 "metadata": {
  "orig_nbformat": 4,
  "language_info": {
   "name": "javascript",
   "version": "",
   "mimetype": "text/javascript",
   "file_extension": ".js"
  },
  "kernelspec": {
   "display_name": "JavaScript",
   "language": "javascript",
   "name": "jslab"
  }
 },
 "nbformat": 4,
 "nbformat_minor": 2
}