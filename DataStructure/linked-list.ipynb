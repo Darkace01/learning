{
 "cells": [
  {
   "cell_type": "markdown",
   "metadata": {},
   "source": [
    "Creating a custom linked list cause javascript doesn't have a built in linked list."
   ]
  },
  {
   "cell_type": "code",
   "execution_count": 4,
   "metadata": {},
   "outputs": [
    {
     "name": "stdout",
     "output_type": "stream",
     "text": [
      "LinkedList {\n",
      "  head: { value: 10, next: { value: 5, next: null } },\n",
      "  tail: { value: 5, next: null },\n",
      "  length: 2,\n",
      "  next: { value: 5, next: null }\n",
      "}\n"
     ]
    }
   ],
   "source": [
    "// let myLinkedList = {\n",
    "//     head: {\n",
    "//         value: 10,\n",
    "//         next: {\n",
    "//             value: 5,\n",
    "//             next: {\n",
    "//                 value: 16,\n",
    "//                 next: null\n",
    "//             }\n",
    "//         }\n",
    "//     }\n",
    "// }\n",
    "\n",
    "class LinkedList{\n",
    "    constructor(value) {\n",
    "        this.head = {\n",
    "            value: value,\n",
    "            next: null\n",
    "        }\n",
    "        this.tail = this.head;\n",
    "        this.length = 1;\n",
    "    }\n",
    "    append(value) {\n",
    "        this.next = {\n",
    "            value: value,\n",
    "            next: null\n",
    "        }\n",
    "        this.head.next = this.next;\n",
    "        this.tail = this.next;\n",
    "        this.length++;\n",
    "    }\n",
    "}\n",
    "\n",
    "let myLinkedList = new LinkedList(10);\n",
    "myLinkedList.append(5);\n",
    "console.log(myLinkedList);"
   ]
  }
 ],
 "metadata": {
  "kernelspec": {
   "display_name": "JavaScript",
   "language": "javascript",
   "name": "jslab"
  },
  "language_info": {
   "file_extension": ".js",
   "mimetype": "text/javascript",
   "name": "javascript",
   "version": ""
  },
  "orig_nbformat": 4
 },
 "nbformat": 4,
 "nbformat_minor": 2
}
