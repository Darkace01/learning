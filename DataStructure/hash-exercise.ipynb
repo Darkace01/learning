{
 "cells": [
  {
   "cell_type": "markdown",
   "metadata": {},
   "source": [
    "Give an array\n",
    "arr = [1,2,3,4,1,6,7,8,9,10]\n",
    "return the first duplicate element in the array"
   ]
  },
  {
   "cell_type": "code",
   "execution_count": 30,
   "metadata": {},
   "outputs": [
    {
     "name": "stdout",
     "output_type": "stream",
     "text": [
      "2\n"
     ]
    }
   ],
   "source": [
    "// my first solution\n",
    "const duplicate = (arr) => {\n",
    "    let checkArr = [];\n",
    "    for (let i = 0; i < arr.length; i++){\n",
    "        if (checkArr.indexOf(arr[i]) === -1) {\n",
    "            checkArr.push(arr[i]);\n",
    "        } else {\n",
    "            return arr[i];\n",
    "        }\n",
    "    }\n",
    "    return undefined;\n",
    "}\n",
    "\n",
    "duplicate([1, 2, 2, 1, 3, 6, 6]);"
   ]
  },
  {
   "cell_type": "code",
   "execution_count": 26,
   "metadata": {},
   "outputs": [
    {
     "name": "stdout",
     "output_type": "stream",
     "text": [
      "7\n",
      "7\n",
      "7\n",
      "2\n"
     ]
    }
   ],
   "source": [
    "// Using hash map\n",
    "const duplicate2 = (arr) => {\n",
    "    let map = {};\n",
    "    for (let i = 0; i < arr.length; i++){\n",
    "        if (map[arr[i]] != undefined) {\n",
    "            return arr[i];\n",
    "        } else {\n",
    "            map[arr[i]] = i;\n",
    "        }\n",
    "    }\n",
    "    return undefined;\n",
    "}\n",
    "duplicate2([1, 2, 2, 1, 3, 6, 6]);\n"
   ]
  }
 ],
 "metadata": {
  "kernelspec": {
   "display_name": "JavaScript",
   "language": "javascript",
   "name": "jslab"
  },
  "language_info": {
   "file_extension": ".js",
   "mimetype": "text/javascript",
   "name": "javascript",
   "version": ""
  },
  "orig_nbformat": 4
 },
 "nbformat": 4,
 "nbformat_minor": 2
}
