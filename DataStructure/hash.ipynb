{
 "cells": [
  {
   "cell_type": "markdown",
   "source": [
    "# Hash\r\n",
    "## Creating hash in javavscript"
   ],
   "metadata": {}
  },
  {
   "cell_type": "code",
   "execution_count": 26,
   "source": [
    "let user = {\r\n",
    "    age: 54,\r\n",
    "    name: 'Kylie',\r\n",
    "    magic: true,\r\n",
    "    scream: function () {\r\n",
    "        console.log('I am a scream!');\r\n",
    "    }\r\n",
    "}"
   ],
   "outputs": [],
   "metadata": {}
  },
  {
   "cell_type": "code",
   "execution_count": 27,
   "source": [
    "user.age //O(1)\r\n",
    "//user.spell = 'I am a spell!'; //O(1)\r\n",
    "user.scream(); //O(1)"
   ],
   "outputs": [
    {
     "output_type": "stream",
     "name": "stdout",
     "text": [
      "I am a scream!\n"
     ]
    }
   ],
   "metadata": {}
  },
  {
   "cell_type": "markdown",
   "source": [
    "## Using Map in javascript"
   ],
   "metadata": {}
  },
  {
   "cell_type": "code",
   "execution_count": 28,
   "source": [
    "class HashTable{\r\n",
    "    constructor(size) {\r\n",
    "        this.data = new Array(size);\r\n",
    "    }\r\n",
    "        _hash(key) {\r\n",
    "            let hash = 0;\r\n",
    "            for (let i = 0; i < key.length; i++) {\r\n",
    "                hash = (hash + key.charCodeAt(i) * i) % this.data.length;\r\n",
    "            }\r\n",
    "            return hash;\r\n",
    "        }\r\n",
    "}"
   ],
   "outputs": [],
   "metadata": {}
  },
  {
   "cell_type": "code",
   "execution_count": 30,
   "source": [
    "const myHashTable = new HashTable(50);\r\n",
    "myHashTable._hash('3Kylie'); //O(1)"
   ],
   "outputs": [
    {
     "output_type": "stream",
     "name": "stdout",
     "text": [
      "16\n"
     ]
    }
   ],
   "metadata": {}
  }
 ],
 "metadata": {
  "orig_nbformat": 4,
  "language_info": {
   "name": "javascript",
   "version": "",
   "mimetype": "text/javascript",
   "file_extension": ".js"
  },
  "kernelspec": {
   "name": "jslab",
   "display_name": "JavaScript",
   "language": "javascript"
  }
 },
 "nbformat": 4,
 "nbformat_minor": 2
}