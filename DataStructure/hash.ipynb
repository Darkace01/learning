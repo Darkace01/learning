{
 "cells": [
  {
   "cell_type": "markdown",
   "metadata": {},
   "source": [
    "# Hash\n",
    "## Creating hash in javavscript"
   ]
  },
  {
   "cell_type": "code",
   "execution_count": null,
   "metadata": {},
   "outputs": [],
   "source": [
    "let user = {\n",
    "    age: 54,\n",
    "    name: 'Kylie',\n",
    "    magic: true,\n",
    "    scream: function () {\n",
    "        console.log('I am a scream!');\n",
    "    }\n",
    "}"
   ]
  },
  {
   "cell_type": "code",
   "execution_count": null,
   "metadata": {},
   "outputs": [],
   "source": [
    "user.age //O(1)\n",
    "//user.spell = 'I am a spell!'; //O(1)\n",
    "user.scream(); //O(1)"
   ]
  },
  {
   "cell_type": "markdown",
   "metadata": {},
   "source": [
    "## Using Map in javascript"
   ]
  },
  {
   "cell_type": "code",
   "execution_count": 38,
   "metadata": {},
   "outputs": [],
   "source": [
    "class HashTable{\n",
    "    constructor(size) {\n",
    "        this.data = new Array(size);\n",
    "    }\n",
    "        _hash(key) {\n",
    "            let hash = 0;\n",
    "            for (let i = 0; i < key.length; i++) {\n",
    "                hash = (hash + key.charCodeAt(i) * i) % this.data.length;\n",
    "            }\n",
    "            return hash;\n",
    "    }\n",
    "    \n",
    "    set(key, value) {\n",
    "        let address = this._hash(key);\n",
    "        if (!this.data[address]) {\n",
    "            this.data[address] = [];\n",
    "        }\n",
    "        this.data[address].push([key, value]);\n",
    "        return this.data;\n",
    "    } // 0(1)\n",
    "\n",
    "    get(key) {\n",
    "        let address = this._hash(key);\n",
    "        const currentBucket = this.data[address];\n",
    "        if (currentBucket) {\n",
    "            for (let i = 0; i < currentBucket.length; i++){\n",
    "                if (currentBucket[i][0] === key) {\n",
    "                    return currentBucket[i][1];\n",
    "                }\n",
    "            }\n",
    "        }\n",
    "        return undefined;\n",
    "    } // O(n)\n",
    "}"
   ]
  },
  {
   "cell_type": "code",
   "execution_count": 39,
   "metadata": {},
   "outputs": [
    {
     "name": "stdout",
     "output_type": "stream",
     "text": [
      "[ 'grapes', 10000 ]\n",
      "10000\n"
     ]
    }
   ],
   "source": [
    "const myHashTable = new HashTable(50);\n",
    "myHashTable.set(\"grapes\", 10000);\n",
    "myHashTable.set(\"apples\", 54);\n",
    "myHashTable.get(\"grapes\");"
   ]
  }
 ],
 "metadata": {
  "kernelspec": {
   "display_name": "JavaScript",
   "language": "javascript",
   "name": "jslab"
  },
  "language_info": {
   "file_extension": ".js",
   "mimetype": "text/javascript",
   "name": "javascript",
   "version": ""
  },
  "orig_nbformat": 4
 },
 "nbformat": 4,
 "nbformat_minor": 2
}
