{
 "cells": [
  {
   "cell_type": "code",
   "execution_count": 7,
   "metadata": {},
   "outputs": [
    {
     "name": "stdout",
     "output_type": "stream",
     "text": [
      "{\"value\":4,\"left\":{\"value\":1,\"left\":null,\"right\":null},\"right\":{\"value\":5,\"left\":null,\"right\":{\"value\":7,\"left\":null,\"right\":{\"value\":39,\"left\":null,\"right\":null}}}}\n"
     ]
    }
   ],
   "source": [
    "class Node {\n",
    "    constructor(value) {\n",
    "        this.left = null;\n",
    "        this.right = null;\n",
    "        this.value = value;\n",
    "    }\n",
    "}\n",
    "\n",
    "class BinarySearchTree {\n",
    "    constructor() {\n",
    "        this.root = null;\n",
    "    }\n",
    "    insert(value) {\n",
    "        const newNode = new Node(value);\n",
    "        if (this.root === null) {\n",
    "            this.root = newNode;\n",
    "        } else {\n",
    "            let currentNode = this.root;\n",
    "            while (true) {\n",
    "                if (value < currentNode.value) {\n",
    "                    //Left\n",
    "                    if (!currentNode.left) {\n",
    "                        currentNode.left = newNode;\n",
    "                        return this;\n",
    "                    }\n",
    "                    currentNode = currentNode.left;\n",
    "                } else {\n",
    "                    //Right\n",
    "                    if (!currentNode.right) {\n",
    "                        currentNode.right = newNode;\n",
    "                        return this;\n",
    "                    }\n",
    "                }\n",
    "                currentNode = currentNode.right;\n",
    "            }\n",
    "        }\n",
    "    }\n",
    "    lookup(value) {\n",
    "        \n",
    "    }\n",
    "}\n",
    "\n",
    "const traverse = (node) => {\n",
    "    const tree = { value: node.value };\n",
    "    tree.left = node.left === null ? null : traverse(node.left);\n",
    "    tree.right = node.right === null ? null : traverse(node.right);\n",
    "    return tree;\n",
    "}\n",
    "\n",
    "const tree = new BinarySearchTree();\n",
    "tree.insert(4);\n",
    "tree.insert(5);\n",
    "tree.insert(7);\n",
    "tree.insert(39);\n",
    "tree.insert(1);\n",
    "JSON.stringify(traverse(tree.root));"
   ]
  }
 ],
 "metadata": {
  "kernelspec": {
   "display_name": "JavaScript",
   "language": "javascript",
   "name": "jslab"
  },
  "language_info": {
   "file_extension": ".js",
   "mimetype": "text/javascript",
   "name": "javascript",
   "version": ""
  },
  "orig_nbformat": 4
 },
 "nbformat": 4,
 "nbformat_minor": 2
}
