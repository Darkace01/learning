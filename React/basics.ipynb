{
 "cells": [
  {
   "cell_type": "markdown",
   "metadata": {},
   "source": [
    "# Ways to write HTML in react\n",
    "[x] JSX\n",
    "[x] React.createElement()\n",
    "\n",
    "# Props\n",
    "[x] They are passed to the component as a parameter\n",
    "[x] They should be immutable (They should not beb changed directly)\n",
    "\n",
    "# Styled Components\n",
    "[x] They are a way to write CSS in JS\n",
    "[x] You can have props in the style\n",
    "\n",
    "# Hooks\n",
    "[x] They are a way to write state in JS"
   ]
  }
 ],
 "metadata": {
  "kernelspec": {
   "display_name": "JavaScript",
   "language": "javascript",
   "name": "jslab"
  },
  "language_info": {
   "name": "javascript"
  },
  "orig_nbformat": 4
 },
 "nbformat": 4,
 "nbformat_minor": 2
}
