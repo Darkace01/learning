{
 "cells": [
  {
   "cell_type": "code",
   "execution_count": null,
   "metadata": {},
   "outputs": [
    {
     "name": "stdout",
     "output_type": "stream",
     "text": [
      "This should be printed before the hashes\n"
     ]
    },
    {
     "name": "stdout",
     "output_type": "stream",
     "text": [
      "[\n",
      "  '098f6bcd4621d373cade4e832627b4f6',\n",
      "  '5e8862cd73694287ff341e75c95e3c6a',\n",
      "  'd41d8cd98f00b204e9800998ecf8427e'\n",
      "]\n",
      "This should be printed before the hashes\n"
     ]
    }
   ],
   "source": [
    "const crypto = require(\"crypto\");\n",
    "\n",
    "function hash(data, callback) {\n",
    "  let counter = 0;\n",
    "  let result = [];\n",
    "  \n",
    "  let func = () => {\n",
    "    if(counter === data.length) {\n",
    "      callback(result);\n",
    "      return;\n",
    "    }\n",
    "    \n",
    "    let md5 = crypto.createHash(\"md5\");\n",
    "    md5.update(data[counter]);\n",
    "    \n",
    "    result.push(md5.digest('hex'));\n",
    "    \n",
    "    counter++;\n",
    "    process.nextTick(func);\n",
    "  };\n",
    "  \n",
    "  func();\n",
    "}\n",
    "console.log(\"This should be printed before the hashes\")\n",
    "setTimeout(() => {\n",
    "  setTimeout(() => console.log(\"This should be printed before the hashes\"));\n",
    "});\n",
    "hash([\"test\", \"another test\", \"\"], console.log);\n",
    "/* should print\n",
    "['098f6bcd4621d373cade4e832627b4f6', \n",
    " '5e8862cd73694287ff341e75c95e3c6a',\n",
    " 'd41d8cd98f00b204e9800998ecf8427e'] */\n",
    "\n",
    "// module.exports.hash = hash;"
   ]
  },
  {
   "cell_type": "code",
   "execution_count": null,
   "metadata": {},
   "outputs": [],
   "source": []
  }
 ],
 "metadata": {
  "kernelspec": {
   "display_name": "JavaScript",
   "language": "javascript",
   "name": "jslab"
  },
  "language_info": {
   "file_extension": ".js",
   "mimetype": "text/javascript",
   "name": "javascript",
   "version": ""
  },
  "orig_nbformat": 4
 },
 "nbformat": 4,
 "nbformat_minor": 2
}
