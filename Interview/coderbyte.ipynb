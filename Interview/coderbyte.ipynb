{
 "cells": [
  {
   "cell_type": "code",
   "execution_count": 2,
   "metadata": {},
   "outputs": [
    {
     "name": "stdout",
     "output_type": "stream",
     "text": [
      "false\n"
     ]
    }
   ],
   "source": [
    "/* Have the function StringChallenge(str) read str which will contain two strings separated by a space. The first string will consist of the following sets of characters: +, , and {N} which is optional. The plus (+) character represents a single alphabetic character, the asterisk () represents a sequence of the same character of length 3 unless it is followed by {N} which represents how many characters should appear in the sequence where N will be at least 1. Your goal is to determine if the second string exactly matches the pattern of the first string in the input.\n",
    "\n",
    "For example: if str is \"++*{5} gheeeee\" then the second string in this case does match the pattern, so your program should return the string true. If the second string does not match the pattern your program should return the string false.\n",
    "*/\n",
    "\n",
    "function StringChallenge(str) {\n",
    "    let result = true;\n",
    "    let pattern = str.split(' ')[0];\n",
    "    let string = str.split(' ')[1];\n",
    "    let i = 0;\n",
    "    let j = 0;\n",
    "    while (i < pattern.length) {\n",
    "      if (pattern[i] === '+') {\n",
    "        if (string[j] === pattern[i]) {\n",
    "          i++;\n",
    "          j++;\n",
    "        } else {\n",
    "          result = false;\n",
    "          break;\n",
    "        }\n",
    "      } else if (pattern[i] === '*') {\n",
    "        let count = 0;\n",
    "        let repeat = pattern[i + 2];\n",
    "        while (string[j] === pattern[i + 1]) {\n",
    "          count++;\n",
    "          j++;\n",
    "        }\n",
    "        if (count === repeat) {\n",
    "          i += 4;\n",
    "        } else {\n",
    "          result = false;\n",
    "          break;\n",
    "        }\n",
    "      }\n",
    "    }\n",
    "    return result; \n",
    "}\n",
    "\n",
    "\n",
    "\n",
    "  \n",
    "  console.log(StringChallenge(\"*+{2} mmmrrrkbb\"));"
   ]
  }
 ],
 "metadata": {
  "kernelspec": {
   "display_name": "JavaScript",
   "language": "javascript",
   "name": "jslab"
  },
  "language_info": {
   "file_extension": ".js",
   "mimetype": "text/javascript",
   "name": "javascript",
   "version": ""
  },
  "orig_nbformat": 4
 },
 "nbformat": 4,
 "nbformat_minor": 2
}
