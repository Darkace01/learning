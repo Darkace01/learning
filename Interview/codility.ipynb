{
 "cells": [
  {
   "cell_type": "code",
   "execution_count": null,
   "metadata": {},
   "outputs": [],
   "source": [
    "private int GetNextId(int[] A)\n",
    "{\n",
    "    int n = A.Length;\n",
    "    int[] B = new int[n + 1];\n",
    "    Array.Sort(A);\n",
    "    if(A[0] <= 0)\n",
    "        return 1;\n",
    "    for (int i = 0; i < n; i++)\n",
    "        B[A[i]] = 1;\n",
    "    for (int i = 1; i <= n; i++)\n",
    "        if (B[i] == 0)\n",
    "            return i;\n",
    "    return -1;\n",
    "}\n",
    "\n",
    "var A = new[] { -1,-3,4,2 };\n",
    "var B = new[] { 1, 3, 6, 4, 1, 2};\n",
    "Console.WriteLine(GetNextId(A));\n",
    "Console.WriteLine(GetNextId(B));"
   ]
  },
  {
   "cell_type": "code",
   "execution_count": null,
   "metadata": {},
   "outputs": [],
   "source": [
    "private int GetNextIdB(int[] A)\n",
    "{\n",
    "    if (A == null || A.Length == 0)\n",
    "        return 1;\n",
    "\n",
    "    Array.Sort(A);\n",
    "    int i = 0;\n",
    "    while (i < A.Length && A[i] == i + 1)\n",
    "        i++;\n",
    "    return i + 1;\n",
    "}\n",
    "var A = new[] { -1,-3,4,2 };\n",
    "var B = new[] { 1, 3, 6, 4, 1, 2};\n",
    "Console.WriteLine(GetNextIdB(A));\n",
    "Console.WriteLine(GetNextIdB(B));"
   ]
  }
 ],
 "metadata": {
  "kernelspec": {
   "display_name": ".NET (C#)",
   "language": "C#",
   "name": ".net-csharp"
  },
  "language_info": {
   "file_extension": ".cs",
   "mimetype": "text/x-csharp",
   "name": "C#",
   "pygments_lexer": "csharp",
   "version": "8.0"
  },
  "orig_nbformat": 4
 },
 "nbformat": 4,
 "nbformat_minor": 2
}
