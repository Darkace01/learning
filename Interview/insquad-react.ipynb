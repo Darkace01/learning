{
 "cells": [
  {
   "cell_type": "markdown",
   "metadata": {},
   "source": [
    "Implement a function that returns a graphical representation of the rating using the symbols ★ and ☆ depending on the number of votes.\n",
    "\n",
    "# Rating calculation logic\n",
    "vote >= 0 and vote <= 20 ★☆☆☆☆\n",
    "\n",
    "vote > 20 and vote <= 40 ★★☆☆☆\n",
    "\n",
    "vote > 40 and vote <= 60 ★★★☆☆\n",
    "\n",
    "vote > 60 and vote <= 80 ★★★★☆\n",
    "\n",
    "vote > 80 and vote <= 100 ★★★★★\n"
   ]
  },
  {
   "cell_type": "code",
   "execution_count": null,
   "metadata": {},
   "outputs": [],
   "source": [
    "function drawRating(vote) {\n",
    "  // Write your code here...\n",
    "  let result = '';\n",
    "  if (vote >= 0 && vote <= 20) {\n",
    "    result = '★☆☆☆☆';\n",
    "  }\n",
    "  if (vote > 20 && vote <= 40) {\n",
    "    result = '★★☆☆☆';\n",
    "  }\n",
    "  if (vote > 40 && vote <= 60) {\n",
    "    result = '★★★☆☆';\n",
    "  }\n",
    "  if (vote > 60 && vote <= 80) {\n",
    "    result = '★★★★☆';\n",
    "  }\n",
    "  if (vote > 80 && vote <= 100) {\n",
    "    result = '★★★★★';\n",
    "  }\n",
    "  return result;\n",
    "}\n"
   ]
  },
  {
   "cell_type": "markdown",
   "metadata": {},
   "source": [
    "You bought an expensive ticket to a carnival and you want to attend all performances. Considering events start time and their duration, wel if it's possible. Time of event-to-event movement isn't taken into account.\n",
    "\n",
    "# Input\n",
    "time - perfomance intervals (string[]) in the form of \"starting_hour-ending_hour\"\n",
    "\n",
    "# Output\n",
    "Boolean - is it possible to watch each performance in full\n",
    "\n",
    "# Example\n",
    "time = [\"09-13\",\"12-14\"]\n",
    "\n",
    "getResult(time) = false;"
   ]
  },
  {
   "cell_type": "code",
   "execution_count": null,
   "metadata": {},
   "outputs": [],
   "source": [
    "function getResult(time) {\n",
    "    // Write your code here...\n",
    "    let lastTime = 0;\n",
    "    let pass = false;\n",
    "    for(let i =0; i < time.length; i++){\n",
    "        let splitTime = time[i].split('-');\n",
    "        if(lastTime > parseInt(splitTime[0])){\n",
    "            return false;\n",
    "        }\n",
    "        lastTime = parseInt(splitTime[1])\n",
    "    }\n",
    "    return true;\n",
    "}"
   ]
  }
 ],
 "metadata": {
  "kernelspec": {
   "display_name": "JavaScript",
   "language": "javascript",
   "name": "jslab"
  },
  "language_info": {
   "name": "javascript"
  },
  "orig_nbformat": 4
 },
 "nbformat": 4,
 "nbformat_minor": 2
}
