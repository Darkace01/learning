{
 "cells": [
  {
   "cell_type": "markdown",
   "metadata": {},
   "source": [
    "Implement a function that returns a graphical representation of the rating using the symbols ★ and ☆ depending on the number of votes.\n",
    "\n",
    "#Rating calculation logic\n",
    "vote >= 0 and vote <= 20 ★☆☆☆☆\n",
    "vote > 20 and vote <= 40 ★★☆☆☆\n",
    "vote > 40 and vote <= 60 ★★★☆☆\n",
    "vote > 60 and vote <= 80 ★★★★☆\n",
    "vote > 80 and vote <= 100 ★★★★★\n"
   ]
  },
  {
   "cell_type": "code",
   "execution_count": null,
   "metadata": {},
   "outputs": [],
   "source": [
    "function drawRating(vote) {\n",
    "  // Write your code here...\n",
    "  let result = '';\n",
    "  if (vote >= 0 && vote <= 20) {\n",
    "    result = '★☆☆☆☆';\n",
    "  }\n",
    "  if (vote > 20 && vote <= 40) {\n",
    "    result = '★★☆☆☆';\n",
    "  }\n",
    "  if (vote > 40 && vote <= 60) {\n",
    "    result = '★★★☆☆';\n",
    "  }\n",
    "  if (vote > 60 && vote <= 80) {\n",
    "    result = '★★★★☆';\n",
    "  }\n",
    "  if (vote > 80 && vote <= 100) {\n",
    "    result = '★★★★★';\n",
    "  }\n",
    "  return result;\n",
    "}\n"
   ]
  }
 ],
 "metadata": {
  "kernelspec": {
   "display_name": "JavaScript",
   "language": "javascript",
   "name": "jslab"
  },
  "language_info": {
   "name": "javascript"
  },
  "orig_nbformat": 4
 },
 "nbformat": 4,
 "nbformat_minor": 2
}
