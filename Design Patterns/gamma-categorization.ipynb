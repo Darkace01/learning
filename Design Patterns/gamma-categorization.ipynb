{
 "cells": [
  {
   "cell_type": "markdown",
   "metadata": {},
   "source": [
    "# Gamma Categorization\n",
    "- Design patterns are typically split into three categories: Creational, Structural, and Behavioral.\n",
    "\n",
    "## Creational Design Patterns\n",
    "- Deal with the creation ( construction ) of objects.\n",
    "- Explicit ( Constructor ) vs. implicit ( DI, reflection, etc. ).\n",
    "- Wholesale ( single instance ) vs. piecewise ( step-by-step ).\n",
    "\n",
    "## Structural Design Patterns\n",
    "- Concerned with the composition of classes or objects.\n",
    "- Many patterns are wrappers that mimic the underlying class' interface.\n",
    "- Stress the importance of good API design.\n",
    "\n",
    "## Behavioral Design Patterns\n",
    "- They are all different; no central theme."
   ]
  }
 ],
 "metadata": {
  "kernelspec": {
   "display_name": ".NET (C#)",
   "language": "C#",
   "name": ".net-csharp"
  },
  "language_info": {
   "name": "python"
  },
  "polyglot_notebook": {
   "kernelInfo": {
    "defaultKernelName": "csharp",
    "items": [
     {
      "aliases": [],
      "name": "csharp"
     }
    ]
   }
  }
 },
 "nbformat": 4,
 "nbformat_minor": 2
}
