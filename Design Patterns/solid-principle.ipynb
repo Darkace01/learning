{
 "cells": [
  {
   "cell_type": "markdown",
   "metadata": {},
   "source": [
    "# Solid Principles\n",
    "\n",
    "## Single Responsibility Principle\n",
    "- The Single Responsibility Principle states that a class should have only one reason to change.\n",
    "- The Single Responsibility Principle is a way to ensure that a class has only one job.\n",
    "- This is similar to separation of concerns, but it's more specific to classes."
   ]
  },
  {
   "cell_type": "markdown",
   "metadata": {},
   "source": [
    "## Open/Closed Principle\n",
    "- The Open-Closed Principle states that a class should be open for extension but closed for modification.\n",
    "- The Open-Closed Principle is a way to ensure that a class is easily extensible without changing the class itself.\n",
    "- If you have a class that has been tested and works, you should not modify it. Instead, you should extend it."
   ]
  },
  {
   "cell_type": "markdown",
   "metadata": {},
   "source": [
    "## Liskov Substitution Principle\n",
    "- The Liskov Substitution Principle states that objects of a superclass shall be replaceable with objects of its subclasses without breaking the application.\n",
    "- The Liskov Substitution Principle is a way to ensure that inheritance is used correctly.\n",
    "- If you have a class that inherits from another class, you should ensure the base class can be replaced with the subclass without affecting the behavior of the program."
   ]
  },
  {
   "cell_type": "markdown",
   "metadata": {},
   "source": [
    "## Interface Segregation Principle\n",
    "- Having your interfaces be small and focused on a single purpose is a good thing.\n",
    "- YAGNI - You Ain't Gonna Need It\n",
    "- Split your interfaces into smaller interfaces that are focused on a single purpose. \n",
    "- Seperation of concerns comes to mind"
   ]
  },
  {
   "cell_type": "markdown",
   "metadata": {},
   "source": [
    "## Dependency Inversion Principle\n",
    "- The Dependency Inversion Principle states that high-level modules should not depend on low-level modules. Both should depend on abstractions.\n",
    "- The Dependency Inversion Principle is a way to decouple software modules.\n",
    "- Use Abstractions where possible"
   ]
  }
 ],
 "metadata": {
  "language_info": {
   "name": "python"
  }
 },
 "nbformat": 4,
 "nbformat_minor": 2
}
