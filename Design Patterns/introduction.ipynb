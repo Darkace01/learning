{
 "cells": [
  {
   "cell_type": "markdown",
   "metadata": {},
   "source": [
    "# Design Patterns\n",
    "- Design patterns are common architectural approaches that have been observed in software development.\n",
    "\n",
    "## Patterns\n",
    "- Creational\n",
    "    - Singleton\n",
    "    - Factory\n",
    "    - Abstract Factory\n",
    "    - Builder\n",
    "    - Prototype\n",
    "\n",
    "- Structural\n",
    "    - Adapter\n",
    "    - Bridge\n",
    "    - Composite\n",
    "    - Decorator\n",
    "    - Facade\n",
    "    - Flyweight\n",
    "    - Proxy\n",
    "\n",
    "- Behavioral\n",
    "    - Chain of Responsibility\n",
    "    - Command\n",
    "    - Interpreter\n",
    "    - Iterator\n",
    "    - Mediator\n",
    "    - Memento\n",
    "    - Observer\n",
    "    - State\n",
    "    - Strategy\n",
    "    - Template Method\n",
    "    - Visitor\n",
    "    - Null Object"
   ]
  }
 ],
 "metadata": {
  "kernelspec": {
   "display_name": ".NET (C#)",
   "language": "C#",
   "name": ".net-csharp"
  },
  "language_info": {
   "name": "python"
  },
  "polyglot_notebook": {
   "kernelInfo": {
    "defaultKernelName": "csharp",
    "items": [
     {
      "aliases": [],
      "name": "csharp"
     }
    ]
   }
  }
 },
 "nbformat": 4,
 "nbformat_minor": 2
}
