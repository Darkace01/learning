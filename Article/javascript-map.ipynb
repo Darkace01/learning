{
 "cells": [
  {
   "cell_type": "markdown",
   "metadata": {},
   "source": [
    "# Javascript Map\n",
    "\n",
    "### Introduction to Map in Javascript\n",
    "\n",
    "A map object holds key-value pairs where values of any type can be used as either keys or values.\n",
    "\n",
    "We can create a new map by using the following syntax"
   ]
  },
  {
   "cell_type": "code",
   "execution_count": null,
   "metadata": {},
   "outputs": [],
   "source": [
    "let map = new Map([iterable]);"
   ]
  },
  {
   "cell_type": "markdown",
   "metadata": {},
   "source": [
    "The Map() method accepts an optional iterable object as an argument, whose elements are key-value pairs\n",
    "\n",
    "### Handy Map Methods\n",
    "- clear() - removes all elements from the map object.\n",
    "- delete(key) - removes the element with the specified key from the map object.\n",
    "- entries() - returns a new Iterator object that contains the [key, value] pairs for each element in the map object.\n",
    "- forEach(callback[, thisArg]) - calls a function for each [key, value] pair in the map object.\n",
    "- get(key) - returns the value associated with the specified key.\n",
    "- has(key) - returns true if the map object contains the specified key.\n",
    "- keys() - returns a new Iterator object that contains the keys for each element in the map object.\n",
    "- set(key, value) - adds or updates an element with a specified key and value to the map object.\n",
    "- values() - returns a new Iterator object that contains the values for each element in the map object."
   ]
  },
  {
   "cell_type": "markdown",
   "metadata": {},
   "source": [
    "### Example: Create a new Map objext"
   ]
  },
  {
   "cell_type": "markdown",
   "metadata": {},
   "source": [
    "If we have a list of user object as follows:"
   ]
  },
  {
   "cell_type": "code",
   "execution_count": null,
   "metadata": {},
   "outputs": [],
   "source": [
    "let john = {name: 'John Doe'},\n",
    "    lily = {name: 'Lily Bush'},\n",
    "    peter = {name: 'Peter Drucker'};"
   ]
  },
  {
   "cell_type": "markdown",
   "metadata": {},
   "source": [
    "We can creatte a map of user role by writing the following:"
   ]
  },
  {
   "cell_type": "code",
   "execution_count": null,
   "metadata": {},
   "outputs": [],
   "source": [
    "let userRoles = new Map();"
   ]
  },
  {
   "cell_type": "markdown",
   "metadata": {},
   "source": [
    "the userRoles is an instance of the Map object"
   ]
  },
  {
   "cell_type": "code",
   "execution_count": null,
   "metadata": {},
   "outputs": [],
   "source": [
    "console.log(typeof(userRoles)); // object\n",
    "console.log(userRoles instanceof Map); // true"
   ]
  },
  {
   "cell_type": "markdown",
   "metadata": {},
   "source": [
    "### Add elements to the map\n",
    "We can use the set() method to add elements to the map."
   ]
  },
  {
   "cell_type": "code",
   "execution_count": null,
   "metadata": {},
   "outputs": [],
   "source": [
    "userRoles.set(john, 'admin');"
   ]
  },
  {
   "cell_type": "markdown",
   "metadata": {},
   "source": [
    "The set() method accepts two arguments, the key and the value. The method maps the user john with the admin role. Also, since set() is a chainable method, we can add more elements to the map."
   ]
  },
  {
   "cell_type": "code",
   "execution_count": null,
   "metadata": {},
   "outputs": [],
   "source": [
    "userRoles.set(lily, 'editor')\n",
    "          .set(peter, 'subscriber');"
   ]
  },
  {
   "cell_type": "markdown",
   "metadata": {},
   "source": [
    "### Initialize a map with an iterable object\n",
    "In the following example, we create a map object with an iterable object."
   ]
  },
  {
   "cell_type": "code",
   "execution_count": null,
   "metadata": {},
   "outputs": [],
   "source": [
    "let userRoles = new Map([\n",
    "    [john, 'admin'],\n",
    "    [lily, 'editor'],\n",
    "    [peter, 'subscriber']\n",
    "]);"
   ]
  },
  {
   "cell_type": "markdown",
   "metadata": {},
   "source": [
    "### Get a value from the map by key"
   ]
  },
  {
   "cell_type": "code",
   "execution_count": null,
   "metadata": {},
   "outputs": [],
   "source": [
    "userRoles.get(john); // admin"
   ]
  },
  {
   "cell_type": "markdown",
   "metadata": {},
   "source": [
    "If the key is present in the map, the get() method returns the value associated with the key, otherwise it returns undefined.\n",
    "\n",
    "### Check if a key is present in the map"
   ]
  },
  {
   "cell_type": "code",
   "execution_count": null,
   "metadata": {},
   "outputs": [],
   "source": [
    "userRoles.has(foo); // false\n",
    "userRoles.has(lily); // true"
   ]
  },
  {
   "cell_type": "markdown",
   "metadata": {},
   "source": [
    "### Get the number of elements in the map"
   ]
  },
  {
   "cell_type": "code",
   "execution_count": null,
   "metadata": {},
   "outputs": [],
   "source": [
    "console.log(userRoles.size); // 3"
   ]
  },
  {
   "cell_type": "markdown",
   "metadata": {},
   "source": [
    "### Iterate over map keys\n",
    "To get all the keys in the map, we can use the keys() method. The keys() method returns a new Iterator object that contains the keys for each element in the map object."
   ]
  },
  {
   "cell_type": "code",
   "execution_count": null,
   "metadata": {},
   "outputs": [],
   "source": [
    "let john = { name: 'John Doe' },\n",
    "  lily = { name: 'Lily Bush' },\n",
    "  peter = { name: 'Peter Drucker' };\n",
    "\n",
    "let userRoles = new Map([\n",
    "  [john, 'admin'],\n",
    "  [lily, 'editor'],\n",
    "  [peter, 'subscriber'],\n",
    "]);\n",
    "\n",
    "for (const user of userRoles.keys()) {\n",
    "  console.log(user.name);\n",
    "}\n",
    "\n",
    "// John Doe\n",
    "// Lily Bush\n",
    "// Peter Drucker"
   ]
  },
  {
   "cell_type": "markdown",
   "metadata": {},
   "source": [
    "### Iterate over map values\n",
    "To get all the values in the map, we can use the values() method. The values() method returns a new Iterator object that contains the values for each element in the map object."
   ]
  },
  {
   "cell_type": "code",
   "execution_count": null,
   "metadata": {},
   "outputs": [],
   "source": [
    "let john = { name: 'John Doe' },\n",
    "  lily = { name: 'Lily Bush' },\n",
    "  peter = { name: 'Peter Drucker' };\n",
    "\n",
    "let userRoles = new Map([\n",
    "  [john, 'admin'],\n",
    "  [lily, 'editor'],\n",
    "  [peter, 'subscriber'],\n",
    "]);\n",
    "\n",
    "for (let role of userRoles.values()) {\n",
    "  console.log(role);\n",
    "}\n",
    "\n",
    "// admin\n",
    "// editor\n",
    "// subscriber"
   ]
  },
  {
   "cell_type": "markdown",
   "metadata": {},
   "source": [
    "### Iterate over map entries\n",
    "To get all the entries in the map, we can use the entries() method. The entries() method returns a new Iterator object that contains the [key, value] pairs for each element in the map object."
   ]
  },
  {
   "cell_type": "code",
   "execution_count": null,
   "metadata": {},
   "outputs": [],
   "source": [
    "let john = { name: 'John Doe' },\n",
    "  lily = { name: 'Lily Bush' },\n",
    "  peter = { name: 'Peter Drucker' };\n",
    "\n",
    "let userRoles = new Map([\n",
    "  [john, 'admin'],\n",
    "  [lily, 'editor'],\n",
    "  [peter, 'subscriber'],\n",
    "]);\n",
    "\n",
    "for (const role of userRoles.entries()) {\n",
    "  console.log(`${role[0].name}: ${role[1]}`);\n",
    "}\n"
   ]
  },
  {
   "cell_type": "markdown",
   "metadata": {},
   "source": [
    "To make the iteration nicer, we can use destructuring assignment:"
   ]
  },
  {
   "cell_type": "code",
   "execution_count": null,
   "metadata": {},
   "outputs": [],
   "source": [
    "let john = { name: 'John Doe' },\n",
    "  lily = { name: 'Lily Bush' },\n",
    "  peter = { name: 'Peter Drucker' };\n",
    "\n",
    "let userRoles = new Map([\n",
    "  [john, 'admin'],\n",
    "  [lily, 'editor'],\n",
    "  [peter, 'subscriber'],\n",
    "]);\n",
    "\n",
    "for (let [user, role] of userRoles.entries()) {\n",
    "  console.log(`${user.name}: ${role}`);\n",
    "}"
   ]
  },
  {
   "cell_type": "markdown",
   "metadata": {},
   "source": [
    "We can also use the forEach method to iterate over the entries of a Map.We can also use the forEach method to iterate over the entries of a Map."
   ]
  },
  {
   "cell_type": "code",
   "execution_count": null,
   "metadata": {},
   "outputs": [],
   "source": [
    "let john = { name: 'John Doe' },\n",
    "  lily = { name: 'Lily Bush' },\n",
    "  peter = { name: 'Peter Drucker' };\n",
    "\n",
    "let userRoles = new Map([\n",
    "  [john, 'admin'],\n",
    "  [lily, 'editor'],\n",
    "  [peter, 'subscriber'],\n",
    "]);\n",
    "\n",
    "userRoles.forEach((role, user) => console.log(`${user.name}: ${role}`));"
   ]
  },
  {
   "cell_type": "markdown",
   "metadata": {},
   "source": [
    "### Convert map keys or values to an array\n",
    "\n",
    "We might want to work with the keys of a map as an array. We can convert the keys of a map to an array by using the keys() method."
   ]
  },
  {
   "cell_type": "code",
   "execution_count": null,
   "metadata": {},
   "outputs": [],
   "source": [
    "var keys = [...userRoles.keys()];\n",
    "console.log(keys);\n",
    "\n",
    "// [ { name: 'John Doe' },\n",
    "// { name: 'Lily Bush' },\n",
    "// { name: 'Peter Drucker' } ]"
   ]
  },
  {
   "cell_type": "markdown",
   "metadata": {},
   "source": [
    "We can convert the values of a map to an array by using the values() method."
   ]
  },
  {
   "cell_type": "code",
   "execution_count": null,
   "metadata": {},
   "outputs": [],
   "source": [
    "let roles = [...userRoles.values()];\n",
    "console.log(roles);\n",
    "\n",
    "// [ 'admin', 'editor', 'subscriber' ]"
   ]
  },
  {
   "cell_type": "markdown",
   "metadata": {},
   "source": [
    "### Delete an element from the map"
   ]
  },
  {
   "cell_type": "code",
   "execution_count": null,
   "metadata": {},
   "outputs": [],
   "source": [
    "userRoles.delete(john);"
   ]
  },
  {
   "cell_type": "markdown",
   "metadata": {},
   "source": [
    "### Delete all elements from the map"
   ]
  },
  {
   "cell_type": "code",
   "execution_count": null,
   "metadata": {},
   "outputs": [],
   "source": [
    "userRoles.clear();"
   ]
  }
 ],
 "metadata": {
  "kernelspec": {
   "display_name": "JavaScript",
   "language": "javascript",
   "name": "jslab"
  },
  "language_info": {
   "file_extension": ".js",
   "mimetype": "text/javascript",
   "name": "javascript",
   "version": ""
  },
  "orig_nbformat": 4
 },
 "nbformat": 4,
 "nbformat_minor": 2
}
