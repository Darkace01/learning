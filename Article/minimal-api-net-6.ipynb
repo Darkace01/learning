{
 "cells": [
  {
   "cell_type": "markdown",
   "metadata": {},
   "source": [
    "# Minimal API in .Net 6\n",
    "\n",
    "Minimal APIs are architected to create HTTP APIs with minimal dependencies. They are ideal for microservices and apps that want to include only the minimum files, features, and dependencies in ASP.NET Core.\n",
    "\n",
    "We would be building a minimal API to retrieve and add todo items using .Net 6\n",
    "\n",
    "### Requirements\n",
    "- Visual Studio Code\n",
    "- C# Extension for Visual Studio Code\n",
    "- .Net 6 SDK\n",
    "\n",
    "### Project Creation\n",
    "1. Open Visual Studio Code Terminal or Command Prompt\n",
    "2. Open the folder where you want to create the project (e.g. cd C:\\Users\\User\\Documents\\Projects)\n",
    "3. Run the following command: dotnet new webapi -minimal -o TodoApi\n",
    "4. Open the project in Visual Studio Code\n",
    "\n",
    "### Project basic code"
   ]
  },
  {
   "cell_type": "code",
   "execution_count": null,
   "metadata": {
    "vscode": {
     "languageId": "csharp"
    }
   },
   "outputs": [],
   "source": [
    "var builder = WebApplication.CreateBuilder(args);\n",
    "\n",
    "// Add services to the container.\n",
    "// Learn more about configuring Swagger/OpenAPI at https://aka.ms/aspnetcore/swashbuckle\n",
    "builder.Services.AddEndpointsApiExplorer();\n",
    "builder.Services.AddSwaggerGen();\n",
    "\n",
    "var app = builder.Build();\n",
    "\n",
    "// Configure the HTTP request pipeline.\n",
    "if (app.Environment.IsDevelopment())\n",
    "{\n",
    "    app.UseSwagger();\n",
    "    app.UseSwaggerUI();\n",
    "}\n",
    "\n",
    "app.UseHttpsRedirection();\n",
    "\n",
    "var summaries = new[]\n",
    "{\n",
    "    \"Freezing\", \"Bracing\", \"Chilly\", \"Cool\", \"Mild\", \"Warm\", \"Balmy\", \"Hot\", \"Sweltering\", \"Scorching\"\n",
    "};\n",
    "\n",
    "app.MapGet(\"/weatherforecast\", () =>\n",
    "{\n",
    "    var forecast = Enumerable.Range(1, 5).Select(index =>\n",
    "       new WeatherForecast\n",
    "       (\n",
    "           DateTime.Now.AddDays(index),\n",
    "           Random.Shared.Next(-20, 55),\n",
    "           summaries[Random.Shared.Next(summaries.Length)]\n",
    "       ))\n",
    "        .ToArray();\n",
    "    return forecast;\n",
    "})\n",
    ".WithName(\"GetWeatherForecast\");\n",
    "\n",
    "app.Run();\n",
    "\n",
    "internal record WeatherForecast(DateTime Date, int TemperatureC, string? Summary)\n",
    "{\n",
    "    public int TemperatureF => 32 + (int)(TemperatureC / 0.5556);\n",
    "}"
   ]
  },
  {
   "cell_type": "markdown",
   "metadata": {},
   "source": [
    "The project template creates a WeatherForecast API with support for Swagger. Swagger is used to generate useful documentation and help pages for web APIs.\n",
    "\n",
    "Trust the HTTPS development certificate by running the following command:"
   ]
  },
  {
   "cell_type": "code",
   "execution_count": null,
   "metadata": {
    "vscode": {
     "languageId": "csharp"
    }
   },
   "outputs": [],
   "source": [
    "dotnet dev-certs https --trust"
   ]
  },
  {
   "cell_type": "markdown",
   "metadata": {},
   "source": [
    "Select Yes if you agree to trust the development certificate.\n",
    "\n",
    "### Update the generated code\n",
    "\n",
    "This tutorial focuses on creating a web API, so we'll delete the Swagger code and the WeatherForecast code. Replace the contents of the Program.cs file with the following:"
   ]
  },
  {
   "cell_type": "code",
   "execution_count": null,
   "metadata": {
    "vscode": {
     "languageId": "csharp"
    }
   },
   "outputs": [],
   "source": [
    "var builder = WebApplication.CreateBuilder(args);\n",
    "var app = builder.Build();\n",
    "\n",
    "app.MapGet(\"/\", () => \"Hello World!\");\n",
    "\n",
    "app.Run();"
   ]
  },
  {
   "cell_type": "markdown",
   "metadata": {},
   "source": [
    "The following code creates a WebApplicationBuilder and a WebApplication with preconfigured defaults:"
   ]
  },
  {
   "cell_type": "code",
   "execution_count": null,
   "metadata": {
    "vscode": {
     "languageId": "csharp"
    }
   },
   "outputs": [],
   "source": [
    "var builder = WebApplication.CreateBuilder(args);\n",
    "var app = builder.Build();"
   ]
  },
  {
   "cell_type": "markdown",
   "metadata": {},
   "source": [
    "The following code creates an HTTP GET endpoint / which returns Hello World!:"
   ]
  },
  {
   "cell_type": "code",
   "execution_count": null,
   "metadata": {
    "vscode": {
     "languageId": "csharp"
    }
   },
   "outputs": [],
   "source": [
    "app.MapGet(\"/\", () => \"Hello World!\");"
   ]
  },
  {
   "cell_type": "markdown",
   "metadata": {},
   "source": [
    "### Add NuGet packages\n",
    "\n",
    "NuGet packages must be added to support the database and diagnostics used in this tutorial."
   ]
  },
  {
   "cell_type": "code",
   "execution_count": null,
   "metadata": {
    "vscode": {
     "languageId": "csharp"
    }
   },
   "outputs": [],
   "source": [
    "dotnet add package Microsoft.EntityFrameworkCore.InMemory --prerelease\n",
    "dotnet add package Microsoft.AspNetCore.Diagnostics.EntityFrameworkCore --prerelease"
   ]
  }
 ],
 "metadata": {
  "kernelspec": {
   "display_name": ".NET (C#)",
   "language": "C#",
   "name": ".net-csharp"
  },
  "language_info": {
   "name": "C#"
  },
  "orig_nbformat": 4
 },
 "nbformat": 4,
 "nbformat_minor": 2
}
