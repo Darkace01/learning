{
 "cells": [
  {
   "cell_type": "code",
   "execution_count": 1,
   "metadata": {},
   "outputs": [
    {
     "name": "stdout",
     "output_type": "stream",
     "text": [
      "4\n"
     ]
    }
   ],
   "source": [
    "const maximizeGold = (A) => {\n",
    "    let cost = 0;\n",
    "    for (let b = 0; b < A.length; b++){\n",
    "        A[b] = (cost % 2) === 0 ? A[b] : inverse(A[b]);\n",
    "\n",
    "        if ((A[b] % 2) !== 1) { cost += 1; }\n",
    "    }\n",
    "    return cost;\n",
    "}\n",
    "\n",
    "const inverse = (num) =>{\n",
    "    return num === 1 ? 0 : 1;\n",
    "}\n",
    "\n",
    "const arr = [1, 0, 1, 1, 0, 1, 1];\n",
    "maximizeGold(arr)"
   ]
  }
 ],
 "metadata": {
  "kernelspec": {
   "display_name": "JavaScript",
   "language": "javascript",
   "name": "jslab"
  },
  "language_info": {
   "file_extension": ".js",
   "mimetype": "text/javascript",
   "name": "javascript",
   "version": ""
  },
  "orig_nbformat": 4
 },
 "nbformat": 4,
 "nbformat_minor": 2
}
