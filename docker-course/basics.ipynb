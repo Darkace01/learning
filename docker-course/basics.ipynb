{
 "cells": [
  {
   "attachments": {},
   "cell_type": "markdown",
   "metadata": {},
   "source": [
    "## Microservice Architecture\n",
    "A variant of the service-oriented architecture (SOA) architectural style, microservices architecture structures an application as a collection of loosely coupled services, which implement business capabilities. The microservices architecture enables the continuous delivery/deployment of large, complex applications. It also enables an organization to evolve its technology stack.\n",
    "\n",
    "## Monolithic Architecture\n",
    "Built as a single unit, a monolithic application is a single-tiered or multi-tiered application that is designed to run as a single process on a single operating system instance. The monolithic architecture is a popular approach for developing applications. It is easy to develop, deploy, and maintain. However, it has some disadvantages. For example, it is difficult to scale and update. It is also difficult to test and debug.\n",
    "\n",
    "\n",
    "## Microservices Anti-Patterns\n",
    "- Complexity\n",
    "- Security\n",
    "\n",
    "\n",
    "### Microservice Benefits\n",
    "- Improved fault isolation\n",
    "- Eliminate vendor or technology lock-in\n",
    "- Ease of understanding\n",
    "- Smaller and faster deployments\n",
    "- Scalability\n",
    "\n",
    "### Microservice Drawbacks\n",
    "- Complexity is added to resolve complexity issues ( i.e. Is your team trained, ready and has made POCs)\n",
    "- Testing may appear simpler but it is not\n",
    "- Deployment may appear simpler but it is not\n",
    "- Manage multiple databases\n",
    "- Latency issues\n",
    "- Transient errors\n",
    "- Multiple point of failures\n",
    "- Security\n",
    "\n",
    "## Cloud Native Foundation\n",
    "- Cloud native technologies empower organizations to build and run scalable applications in modern, dynamic environments such as public, private, and hybrid clouds. Containers, service meshes, microservices, immutable infrastructure, and declarative APIs exemplify this approach.\n",
    "- These techniques enable loosely coupled systems that are resilient, manageable, and observable. Combined with robust automation, they allow engineers to make high-impact changes frequently and predictably with minimal toil.\n",
    "- The Cloud Native Computing Foundation seeks to drive the adoption of cloud native technologies by fostering an ecosystem of open source, vendor-neutral projects. We collaborate with the world’s leading cloud native computing projects, including Kubernetes, Prometheus, OpenTracing, Fluentd, gRPC, containerd, CNI, Envoy, CoreDNS, NATS, Linkerd, Jaeger, Notary, TUF, Vitess, and more."
   ]
  }
 ],
 "metadata": {
  "kernelspec": {
   "display_name": "JavaScript",
   "language": "javascript",
   "name": "jslab"
  },
  "language_info": {
   "name": "javascript"
  },
  "orig_nbformat": 4
 },
 "nbformat": 4,
 "nbformat_minor": 2
}
