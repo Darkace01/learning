{
 "cells": [
  {
   "attachments": {},
   "cell_type": "markdown",
   "metadata": {
    "dotnet_interactive": {
     "language": "csharp"
    },
    "polyglot_notebook": {
     "kernelName": "csharp"
    }
   },
   "source": [
    "## Microservice Architecture\n",
    "A variant of the service-oriented architecture (SOA) architectural style, microservices architecture structures an application as a collection of loosely coupled services, which implement business capabilities. The microservices architecture enables the continuous delivery/deployment of large, complex applications. It also enables an organization to evolve its technology stack.\n",
    "\n",
    "## Monolithic Architecture\n",
    "Built as a single unit, a monolithic application is a single-tiered or multi-tiered application that is designed to run as a single process on a single operating system instance. The monolithic architecture is a popular approach for developing applications. It is easy to develop, deploy, and maintain. However, it has some disadvantages. For example, it is difficult to scale and update. It is also difficult to test and debug.\n",
    "\n",
    "\n",
    "## Microservices Anti-Patterns\n",
    "- Complexity\n",
    "- Security\n",
    "\n",
    "\n",
    "### Microservice Benefits\n",
    "- Improved fault isolation\n",
    "- Eliminate vendor or technology lock-in\n",
    "- Ease of understanding\n",
    "- Smaller and faster deployments\n",
    "- Scalability\n",
    "\n",
    "### Microservice Drawbacks\n",
    "- Complexity is added to resolve complexity issues ( i.e. Is your team trained, ready and has made POCs)\n",
    "- Testing may appear simpler but it is not\n",
    "- Deployment may appear simpler but it is not\n",
    "- Manage multiple databases\n",
    "- Latency issues\n",
    "- Transient errors\n",
    "- Multiple point of failures\n",
    "- Security\n",
    "\n",
    "## Cloud Native Foundation\n",
    "- Cloud native technologies empower organizations to build and run scalable applications in modern, dynamic environments such as public, private, and hybrid clouds. Containers, service meshes, microservices, immutable infrastructure, and declarative APIs exemplify this approach.\n",
    "- These techniques enable loosely coupled systems that are resilient, manageable, and observable. Combined with robust automation, they allow engineers to make high-impact changes frequently and predictably with minimal toil.\n",
    "- The Cloud Native Computing Foundation seeks to drive the adoption of cloud native technologies by fostering an ecosystem of open source, vendor-neutral projects. We collaborate with the world’s leading cloud native computing projects, including Kubernetes, Prometheus, OpenTracing, Fluentd, gRPC, containerd, CNI, Envoy, CoreDNS, NATS, Linkerd, Jaeger, Notary, TUF, Vitess, and more.\n",
    "\n",
    "## Cloud Native Concepts\n",
    "This is majorly about speed and agility. It also covers\n",
    "- Clean code\n",
    "- Domain driven design\n",
    "- Microservice principles\n",
    "- Kubernates patterns\n",
    "\n",
    "\n"
   ]
  },
  {
   "cell_type": "markdown",
   "metadata": {
    "dotnet_interactive": {
     "language": "csharp"
    },
    "polyglot_notebook": {
     "kernelName": "csharp"
    }
   },
   "source": [
    "## Container\n",
    "A container is a unit of software/deployment which contains all it needs to run. ( Code, Runtime, System Tools and System Libraries )\n",
    "### Why Containers?\n",
    "- Move faster by deploying smaller units\n",
    "- Use fewer resources\n",
    "- Fit more into the same host\n",
    "- Faster automation\n",
    "- Portabilty\n",
    "- Isolation"
   ]
  },
  {
   "attachments": {},
   "cell_type": "markdown",
   "metadata": {
    "dotnet_interactive": {
     "language": "csharp"
    },
    "polyglot_notebook": {
     "kernelName": "csharp"
    }
   },
   "source": [
    "## Docker\n",
    "Docker is a set of platform as a service (PaaS) products that use OS-level virtualization to deliver software in packages called containers. Containers are isolated from one another and bundle their own software, libraries and configuration files; they can communicate with each other through well-defined channels. All containers are run by a single operating-system kernel and are thus more lightweight than virtual machines. Containers are created from images that specify their precise contents. Images are often created by combining and modifying standard images downloaded from public repositories.\n",
    "\n",
    "### Docker CLI Cheat Sheet\n",
    "``` docker pull [imageName] ``` Pull an image from a registery \n",
    "\\\n",
    "``` docker run [imageName] ``` Run containers\n",
    "\\\n",
    "``` docker run -d [imageName] ``` Detached mode\n",
    "\\\n",
    "``` docker start [containerName] ``` Start stopped containers\n",
    "\\\n",
    "``` docker ps ``` List running contianers\n",
    "\\\n",
    "``` docker ps -a ``` List running and stopped containers\n",
    "\\\n",
    "``` docker stop [containerName] ``` Stop containers\n",
    "\\\n",
    "``` docker kill [containerName] ``` Kill containers\n",
    "\\\n",
    "``` docker image inspect [imageName] ``` Get image info\n",
    "\\\n",
    "``` docker container inspect [containerName] ``` Get container info\n",
    "\\\n",
    "``` docker container logs [containerName] ``` Get container logs\n",
    "\\\n",
    "``` docker container top [containerName] ``` Get container processes\n",
    "\\\n",
    "``` docker run -it -- microsoft/powershell:nanoserver pwsh.exe ``` Attach Powershell to container\n",
    "\\\n",
    "``` docker rm [containerName] ``` Remove stopped containers\n",
    "\\\n",
    "``` docker rm $(docker ps -a -q) ``` Remove all stopped containers\n",
    "\\\n",
    "``` docker rmi [imageName] ``` Remove image\n",
    "\\\n",
    "``` docker system prune -a ``` Remove all stopped containers and unused images"
   ]
  }
 ],
 "metadata": {
  "kernelspec": {
   "display_name": ".NET (C#)",
   "language": "C#",
   "name": ".net-csharp"
  },
  "language_info": {
   "name": "C#"
  },
  "polyglot_notebook": {
   "kernelInfo": {
    "defaultKernelName": "csharp",
    "items": [
     {
      "aliases": [
       "c#",
       "C#"
      ],
      "languageName": "C#",
      "name": "csharp"
     },
     {
      "aliases": [
       "frontend"
      ],
      "name": "vscode"
     },
     {
      "aliases": [],
      "name": ".NET"
     },
     {
      "aliases": [
       "f#",
       "F#"
      ],
      "languageName": "F#",
      "name": "fsharp"
     },
     {
      "aliases": [],
      "languageName": "HTML",
      "name": "html"
     },
     {
      "aliases": [
       "js"
      ],
      "languageName": "JavaScript",
      "name": "javascript"
     },
     {
      "aliases": [],
      "languageName": "KQL",
      "name": "kql"
     },
     {
      "aliases": [],
      "languageName": "Mermaid",
      "name": "mermaid"
     },
     {
      "aliases": [
       "powershell"
      ],
      "languageName": "PowerShell",
      "name": "pwsh"
     },
     {
      "aliases": [],
      "languageName": "SQL",
      "name": "sql"
     },
     {
      "aliases": [],
      "name": "value"
     },
     {
      "aliases": [],
      "name": "webview"
     }
    ]
   }
  }
 },
 "nbformat": 4,
 "nbformat_minor": 2
}
