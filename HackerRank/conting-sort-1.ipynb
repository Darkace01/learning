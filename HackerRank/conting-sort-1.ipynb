{
 "cells": [
  {
   "cell_type": "code",
   "execution_count": null,
   "metadata": {},
   "outputs": [],
   "source": [
    "function countingSort(arr) {\n",
    "    // Write your code here\n",
    "    let ar = [];\n",
    "    for(let j =0; j < 100; j++){\n",
    "        ar[j] = 0;\n",
    "    }\n",
    "    for (let i = 0; i < arr.length; i++) {\n",
    "        if (ar[arr[i]]) {\n",
    "            ar[arr[i]] = ar[arr[i]] + 1;\n",
    "        } else {\n",
    "            ar[arr[i]] = 1\n",
    "        }\n",
    "    }\n",
    "    return ar;\n",
    "}"
   ]
  }
 ],
 "metadata": {
  "kernelspec": {
   "display_name": "JavaScript",
   "language": "javascript",
   "name": "jslab"
  },
  "language_info": {
   "name": "javascript"
  },
  "orig_nbformat": 4
 },
 "nbformat": 4,
 "nbformat_minor": 2
}
