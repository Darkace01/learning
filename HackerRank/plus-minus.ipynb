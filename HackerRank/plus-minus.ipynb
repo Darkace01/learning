{
 "cells": [
  {
   "cell_type": "markdown",
   "metadata": {},
   "source": [
    "### Plus Minus Task\n",
    "\n",
    "Given an array of integers, calculate the ratios of its elements that are positive, negative, and zero. Print the decimal value of each fraction on a new line with  places after the decimal.\n",
    "\n",
    "Note: This challenge introduces precision problems. The test cases are scaled to six decimal places, though answers with absolute error of up to  are acceptable.\n",
    "\n",
    "# Function Description\n",
    "\n",
    "Complete the plusMinus function in the editor below.\n",
    "\n",
    "plusMinus has the following parameter(s):\n",
    "\n",
    "int arr[n]: an array of integers"
   ]
  },
  {
   "cell_type": "code",
   "execution_count": null,
   "metadata": {},
   "outputs": [],
   "source": [
    "function plusMinus(arr) {\n",
    "    // Write your code here\n",
    "    const arrLength = arr.length;\n",
    "    let positive = 0;\n",
    "    let negative = 0;\n",
    "    let zero = 0;\n",
    "\n",
    "    for (let i = 0; i < arrLength; i++){\n",
    "        if (arr[i] < 0) {\n",
    "            negative++;\n",
    "        }\n",
    "        if (arr[i] === 0) {\n",
    "            zero++;\n",
    "        }\n",
    "        if (arr[i] > 0) {\n",
    "            positive++;\n",
    "        }\n",
    "    }\n",
    "\n",
    "    console.log((positive / arrLength).toFixed(6));\n",
    "    console.log((negative / arrLength).toFixed(6));\n",
    "    console.log((zero / arrLength).toFixed(6));\n",
    "}\n",
    "\n",
    "plusMinus([-4, 3, -9, 0, 4, 1]);"
   ]
  }
 ],
 "metadata": {
  "kernelspec": {
   "display_name": "JavaScript",
   "language": "javascript",
   "name": "jslab"
  },
  "language_info": {
   "file_extension": ".js",
   "mimetype": "text/javascript",
   "name": "javascript",
   "version": ""
  },
  "orig_nbformat": 4
 },
 "nbformat": 4,
 "nbformat_minor": 2
}
