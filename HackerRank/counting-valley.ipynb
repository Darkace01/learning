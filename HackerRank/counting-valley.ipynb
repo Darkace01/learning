{
 "cells": [
  {
   "cell_type": "code",
   "execution_count": 9,
   "metadata": {},
   "outputs": [
    {
     "name": "stdout",
     "output_type": "stream",
     "text": [
      "2\n"
     ]
    }
   ],
   "source": [
    "function countingValleys(steps, path) {\n",
    "    // Write your code here\n",
    "    let count = 0, altitude = 0;\n",
    "    for (let i = 0; i < steps; i++){\n",
    "        if (path[i] == \"D\") {\n",
    "            altitude--;\n",
    "        }else{\n",
    "            if(altitude == -1){\n",
    "                count++;\n",
    "            }\n",
    "            altitude++;\n",
    "        }\n",
    "    }\n",
    "    return count;\n",
    "}\n",
    "countingValleys(12, \"DDUUDDUDUUUD\");"
   ]
  }
 ],
 "metadata": {
  "kernelspec": {
   "display_name": "JavaScript",
   "language": "javascript",
   "name": "jslab"
  },
  "language_info": {
   "file_extension": ".js",
   "mimetype": "text/javascript",
   "name": "javascript",
   "version": ""
  },
  "orig_nbformat": 4
 },
 "nbformat": 4,
 "nbformat_minor": 2
}
