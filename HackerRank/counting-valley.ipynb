{
 "cells": [
  {
   "cell_type": "code",
   "execution_count": 6,
   "metadata": {},
   "outputs": [
    {
     "name": "stdout",
     "output_type": "stream",
     "text": [
      "U\n",
      "U\n",
      "D\n",
      "D\n",
      "U\n",
      "D\n",
      "U\n",
      "U\n",
      "U\n",
      "D\n",
      "3\n"
     ]
    }
   ],
   "source": [
    "function countingValleys(steps, path) {\n",
    "    // Write your code here\n",
    "    let count = 0;\n",
    "    path = path.pop();\n",
    "    for (let i = 1; i < path.length; i++){\n",
    "        if(i - 1 !== 0){\n",
    "            if (path[i] === \"D\" && path[i - 1] === \"U\") {\n",
    "                count++;\n",
    "            }\n",
    "        }\n",
    "    }\n",
    "    return count;\n",
    "}\n",
    "countingValleys(12, \"DDUUDDUDUUUD\");"
   ]
  }
 ],
 "metadata": {
  "kernelspec": {
   "display_name": "JavaScript",
   "language": "javascript",
   "name": "jslab"
  },
  "language_info": {
   "file_extension": ".js",
   "mimetype": "text/javascript",
   "name": "javascript",
   "version": ""
  },
  "orig_nbformat": 4
 },
 "nbformat": 4,
 "nbformat_minor": 2
}
