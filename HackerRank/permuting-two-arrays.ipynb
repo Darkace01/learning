{
 "cells": [
  {
   "cell_type": "markdown",
   "metadata": {},
   "source": [
    "There are two -element arrays of integers,  and . Permute them into some  and  such that the relation  holds for all  where .\n",
    "\n",
    "There will be  queries consisting of , , and . For each query, return YES if some permutation ,  satisfying the relation exists. Otherwise, return NO.\n",
    "\n",
    "A valid  is  and :  and . Return YES.\n",
    "\n",
    "Function Description\n",
    "\n",
    "Complete the twoArrays function in the editor below. It should return a string, either YES or NO.\n",
    "\n",
    "twoArrays has the following parameter(s):\n",
    "\n",
    "int k: an integer\n",
    "int A[n]: an array of integers\n",
    "int B[n]: an array of integers\n",
    "Returns\n",
    "- string: either YES or NO\n",
    "\n",
    "Input Format\n",
    "\n",
    "The first line contains an integer , the number of queries.\n",
    "\n",
    "The next  sets of  lines are as follows:\n",
    "\n",
    "The first line contains two space-separated integers  and , the size of both arrays  and , and the relation variable.\n",
    "The second line contains  space-separated integers .\n",
    "The third line contains  space-separated integers ."
   ]
  },
  {
   "cell_type": "code",
   "execution_count": null,
   "metadata": {},
   "outputs": [],
   "source": [
    "function twoArrays(k, A, B) {\n",
    "    // Write your code here\n",
    "    \n",
    "}\n",
    "\n",
    "let A = [1, 2, 2, 1], B = [3, 3, 3, 4], k = 5;\n",
    "twoArrays(k, A, B);"
   ]
  }
 ],
 "metadata": {
  "kernelspec": {
   "display_name": "JavaScript",
   "language": "javascript",
   "name": "jslab"
  },
  "language_info": {
   "name": "javascript"
  },
  "orig_nbformat": 4
 },
 "nbformat": 4,
 "nbformat_minor": 2
}
