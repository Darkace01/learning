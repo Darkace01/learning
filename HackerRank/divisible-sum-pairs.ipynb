{
 "cells": [
  {
   "cell_type": "markdown",
   "metadata": {},
   "source": [
    "# Divisible Sum Pairs\n",
    "Given an array of integers and a positive integer `k`, find out the number of `(i, j)` pairs where `i < j` and `arr[i] + arr[j] = k`.\n",
    "### Example\n",
    "`ar = [1,2,3,4,5,6]`\n",
    "`k = 5`\n",
    "Three pairs are `(1, 4)`, `(2, 3)` and `(4, 6)`.\n",
    "### Function Description\n",
    "Complete the divisibleSumPairs function in the editor below.\n",
    "\n",
    "divisibleSumPairs has the following parameter(s):\n",
    "\n",
    "[x] int n: the number of elements in array `ar`\n",
    "[x] int ar[n]: an array of integers\n",
    "[x] int k: the number to divide the sum by\n",
    "\n",
    "### Return\n",
    "int: the number of pairs that divide the sum by `k`\n"
   ]
  },
  {
   "cell_type": "code",
   "execution_count": 6,
   "metadata": {},
   "outputs": [
    {
     "name": "stdout",
     "output_type": "stream",
     "text": [
      "5\n"
     ]
    }
   ],
   "source": [
    "function divisibleSumPairsBad(n, k, ar) {\n",
    "    // Write your code here\n",
    "    let count = 0;\n",
    "    for (let i = 0; i < n; i++) {\n",
    "        for (let j = i + 1; j < n; j++) {\n",
    "            if ((ar[i] + ar[j]) % k == 0) {\n",
    "                count++;\n",
    "            }\n",
    "        }\n",
    "    }\n",
    "    return count;\n",
    "}\n",
    "divisibleSumPairsBad(6,3,[1,3,2,6,1,2])"
   ]
  },
  {
   "cell_type": "code",
   "execution_count": 4,
   "metadata": {},
   "outputs": [
    {
     "name": "stdout",
     "output_type": "stream",
     "text": [
      "[ 1, 1, 2, 2 ]\n",
      "5\n"
     ]
    }
   ],
   "source": [
    "function divisibleSumPairs(n, k, ar) {\n",
    "    // Write your code here\n",
    "    let count = 0;\n",
    "    ar = ar.sort((a, b) => a - b);\n",
    "    for (let i = 0; i < n; i++) {\n",
    "        ar.slice(i + 1).filter((item) => {\n",
    "            if ((item + ar[i]) % k === 0) {\n",
    "                count++;\n",
    "            }\n",
    "        });\n",
    "    }\n",
    "    return count;\n",
    "}\n",
    "\n",
    "divisibleSumPairs(6,3,[1,3,2,6,1,2])"
   ]
  }
 ],
 "metadata": {
  "kernelspec": {
   "display_name": "JavaScript",
   "language": "javascript",
   "name": "jslab"
  },
  "language_info": {
   "file_extension": ".js",
   "mimetype": "text/javascript",
   "name": "javascript",
   "version": ""
  },
  "orig_nbformat": 4
 },
 "nbformat": 4,
 "nbformat_minor": 2
}
