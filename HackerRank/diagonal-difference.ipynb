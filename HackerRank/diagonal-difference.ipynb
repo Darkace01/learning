{
 "cells": [
  {
   "cell_type": "code",
   "execution_count": 3,
   "metadata": {},
   "outputs": [
    {
     "name": "stdout",
     "output_type": "stream",
     "text": [
      "[ 11, 5, -12 ] [ 10, 5, 4 ]\n",
      "15\n"
     ]
    }
   ],
   "source": [
    "function diagonalDifference(arr) {\n",
    "    // Write your code here\n",
    "    let left = 0;\n",
    "    let right = 0;\n",
    "    for (let i = 0; i < arr.length; i++){\n",
    "        left += arr[i][i];\n",
    "    }\n",
    "    let count = 0;\n",
    "    for (let j = arr.length - 1; j >= 0; j--){\n",
    "        right += arr[j][count];\n",
    "        count++;\n",
    "    }\n",
    "    return Math.abs(right - left);\n",
    "}\n",
    "let test = [[11, 2, 4], [4, 5, 6], [10, 8, -12]];\n",
    "diagonalDifference(test);"
   ]
  }
 ],
 "metadata": {
  "kernelspec": {
   "display_name": "JavaScript",
   "language": "javascript",
   "name": "jslab"
  },
  "language_info": {
   "file_extension": ".js",
   "mimetype": "text/javascript",
   "name": "javascript",
   "version": ""
  },
  "orig_nbformat": 4
 },
 "nbformat": 4,
 "nbformat_minor": 2
}
