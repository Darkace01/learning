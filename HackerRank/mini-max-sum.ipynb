{
 "cells": [
  {
   "cell_type": "markdown",
   "metadata": {},
   "source": [
    "Given five positive integers, find the minimum and maximum values that can be calculated by summing exactly four of the five integers. Then print the respective minimum and maximum values as a single line of two space-separated long integers.\n",
    "\n",
    "# Example\n",
    "arr = [1, 3, 5, 7, 9]\n",
    "The minimum sum is ``1+3+5+7=16`` and the maximum sum is ``3+5+7+9=24`` The function prints\n",
    "\n",
    "``16 24``"
   ]
  },
  {
   "cell_type": "code",
   "execution_count": null,
   "metadata": {},
   "outputs": [],
   "source": [
    "function miniMaxSum(arr) {\n",
    "    // Write your code here\n",
    "    arr = arr.sort((a, b) => a - b);\n",
    "    let min = 0;\n",
    "    let max = 0;\n",
    "    for (let i = 0; i < arr.length - 1; i++){\n",
    "        min += arr[i]\n",
    "    }\n",
    "\n",
    "    for (let i = 1; i < arr.length; i++){\n",
    "        max += arr[i]\n",
    "    }\n",
    "\n",
    "    console.log(min, max);\n",
    "}\n",
    "\n",
    "miniMaxSum([1, 2 ,3 ,4 ,5])"
   ]
  }
 ],
 "metadata": {
  "kernelspec": {
   "display_name": "JavaScript",
   "language": "javascript",
   "name": "jslab"
  },
  "language_info": {
   "file_extension": ".js",
   "mimetype": "text/javascript",
   "name": "javascript",
   "version": ""
  },
  "orig_nbformat": 4
 },
 "nbformat": 4,
 "nbformat_minor": 2
}
