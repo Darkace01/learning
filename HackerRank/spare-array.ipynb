{
 "cells": [
  {
   "cell_type": "markdown",
   "metadata": {},
   "source": [
    "There is a collection of input strings and a collection of query strings. For each query string, determine how many times it occurs in the list of input strings. Return an array of the results."
   ]
  },
  {
   "cell_type": "code",
   "execution_count": 58,
   "metadata": {},
   "outputs": [
    {
     "name": "stdout",
     "output_type": "stream",
     "text": [
      "[ 2, 0, 0 ]\n"
     ]
    }
   ],
   "source": [
    "function matchingStrings(strings, queries) {\n",
    "    // Write your code here\n",
    "    const counts = [];\n",
    "    const countMap = new Map();\n",
    "    let response = [];\n",
    "     queries.forEach(query => {\n",
    "        if (countMap.has(query)) {\n",
    "            response.push(countMap.get(query))         \n",
    "        } else {\n",
    "            const prevCount = strings.length;\n",
    "            strings = strings.filter(string => string !== query);\n",
    "            const nextCount = strings.length;\n",
    "            const count = prevCount - nextCount;\n",
    "            countMap.set(query, count);\n",
    "            response.push(count)          \n",
    "        }\n",
    "    });\n",
    "    return [...response];\n",
    "}\n",
    "\n",
    "matchingStrings(['aba','baba','aba'],['aba','xzxb','ab'])"
   ]
  },
  {
   "cell_type": "code",
   "execution_count": 52,
   "metadata": {},
   "outputs": [
    {
     "name": "stdout",
     "output_type": "stream",
     "text": [
      "1 [ 1, 0 ]\n",
      "not undefined 1\n",
      "undefined [ 2, 0 ]\n",
      "undefined 1\n",
      "undefined [ 2, 0, 0 ]\n",
      "undefined 1\n",
      "[ 'aba', 'baba', 'xzxb', 'ab' ]\n"
     ]
    }
   ],
   "source": [
    "function matchingStringsA(strings, queries) {\n",
    "    // Write your code here\n",
    "    let stringMap = new Map();\n",
    "    for (let i = 0; i < strings.length; i++){\n",
    "        if (stringMap.get(strings[i]) !== undefined) {\n",
    "            stringMap.set(strings[i],stringMap.get(strings[i]) + 1);\n",
    "        }else{\n",
    "            stringMap.set(strings[i],0);\n",
    "        }\n",
    "    }\n",
    "    for (let j = 0; j < queries.length; j++){\n",
    "        console.log(stringMap.get(queries[j]),[...stringMap.values()])\n",
    "        if (stringMap.get(queries[j]) !== undefined) {\n",
    "            console.log(\"not undefined\",1)\n",
    "            stringMap.set(strings[j], stringMap.get(queries[j]) + 1)\n",
    "        } else {\n",
    "            console.log(\"undefined\",1)\n",
    "            stringMap.set(queries[j], 0)\n",
    "        }\n",
    "    } \n",
    "    return [...stringMap.keys()];\n",
    "\n",
    "}\n",
    "\n",
    "matchingStringsA(['aba','baba','aba'],['aba','xzxb','ab'])"
   ]
  },
  {
   "cell_type": "code",
   "execution_count": null,
   "metadata": {},
   "outputs": [],
   "source": [
    "function matchingStringsArr(strings, queries) {\n",
    "    // Write your code here\n",
    "    let arr = [];\n",
    "    for (let i = 0; i < queries.length; i++){\n",
    "        \n",
    "    }\n",
    "\n",
    "}\n",
    "\n",
    "matchingStringsArr(['aba','baba','aba'],['aba','xzxb','ab'])"
   ]
  }
 ],
 "metadata": {
  "kernelspec": {
   "display_name": "JavaScript",
   "language": "javascript",
   "name": "jslab"
  },
  "language_info": {
   "file_extension": ".js",
   "mimetype": "text/javascript",
   "name": "javascript",
   "version": ""
  },
  "orig_nbformat": 4
 },
 "nbformat": 4,
 "nbformat_minor": 2
}
