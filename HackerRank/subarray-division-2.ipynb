{
 "cells": [
  {
   "cell_type": "code",
   "execution_count": null,
   "metadata": {},
   "outputs": [],
   "source": [
    "function birthday(s, d, m) {\n",
    "    // Write your code here\n",
    "    s = s.sort((a, b) => b - a);\n",
    "    let map = new Map();\n",
    "    for (let i = 0; i < s.length; i++) {\n",
    "        if (s[i] < d) {\n",
    "            if (s[i] + s[i + 1] === d) {\n",
    "                map.set(s[i], s[i + 1]);\n",
    "            }\n",
    "        }\n",
    "    }\n",
    "\n",
    "    return [...map];\n",
    "}\n",
    "\n",
    "birthday([2,2,1,3,2],4,2)"
   ]
  }
 ],
 "metadata": {
  "kernelspec": {
   "display_name": "JavaScript",
   "language": "javascript",
   "name": "jslab"
  },
  "language_info": {
   "file_extension": ".js",
   "mimetype": "text/javascript",
   "name": "javascript",
   "version": ""
  },
  "orig_nbformat": 4
 },
 "nbformat": 4,
 "nbformat_minor": 2
}
