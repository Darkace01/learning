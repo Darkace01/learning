{
 "cells": [
  {
   "cell_type": "markdown",
   "metadata": {},
   "source": [
    "Given a time in 12-hour AM/PM format, convert it to military (24-hour) time.\n",
    "\n",
    "Note: - 12:00:00AM on a 12-hour clock is 00:00:00 on a 24-hour clock.\n",
    "- 12:00:00PM on a 12-hour clock is 12:00:00 on a 24-hour clock."
   ]
  },
  {
   "cell_type": "code",
   "execution_count": null,
   "metadata": {},
   "outputs": [],
   "source": [
    "function timeConversion(s) {\n",
    "    // Write your code here\n",
    "    const firstPath = s.substring(0, 8);\n",
    "    const amPM = s.substring(8, 10);\n",
    "    let output;\n",
    "    let arr = firstPath.split(\":\");\n",
    "    if (amPM == \"PM\") {\n",
    "        if (arr[0] == \"12\") {\n",
    "            arr[0] = \"12\";\n",
    "        } else {\n",
    "            arr[0] = parseInt(arr[0]) + 12;\n",
    "        }\n",
    "        output = `${arr[0]}:${arr[1]}:${arr[2]}`;\n",
    "    } else {\n",
    "        if (arr[0] == \"12\") {\n",
    "            arr[0] = \"00\";\n",
    "        }\n",
    "        output = `${arr[0]}:${arr[1]}:${arr[2]}`;\n",
    "    }\n",
    "    return output;\n",
    "}\n",
    "\n",
    "timeConversion(\"12:40:22AM\");"
   ]
  }
 ],
 "metadata": {
  "kernelspec": {
   "display_name": "JavaScript",
   "language": "javascript",
   "name": "jslab"
  },
  "language_info": {
   "file_extension": ".js",
   "mimetype": "text/javascript",
   "name": "javascript",
   "version": ""
  },
  "orig_nbformat": 4
 },
 "nbformat": 4,
 "nbformat_minor": 2
}
