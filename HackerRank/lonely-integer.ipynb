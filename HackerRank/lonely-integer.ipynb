{
 "cells": [
  {
   "cell_type": "markdown",
   "metadata": {},
   "source": [
    "Given an array of integers, where all elements but one occur twice, find the unique element."
   ]
  },
  {
   "cell_type": "code",
   "execution_count": 13,
   "metadata": {},
   "outputs": [
    {
     "name": "stdout",
     "output_type": "stream",
     "text": [
      "2\n"
     ]
    }
   ],
   "source": [
    "function lonelyinteger(a) {\n",
    "    // Write your code here\n",
    "    if (a.length == 1) {\n",
    "        return a[0];\n",
    "    }\n",
    "    let stringMap = new Map();\n",
    "    for (let i = 0; i < a.length; i++){\n",
    "        if (stringMap.get(a[i]) !== undefined) {\n",
    "            stringMap.set(a[i],stringMap.get(a[i]) + 1);\n",
    "        }else{\n",
    "            stringMap.set(a[i],0);\n",
    "        }\n",
    "    }\n",
    "    return [...stringMap].filter(x => x[1] == 0)[0][0]\n",
    "}\n",
    "lonelyinteger([1,1,2])"
   ]
  }
 ],
 "metadata": {
  "kernelspec": {
   "display_name": "JavaScript",
   "language": "javascript",
   "name": "jslab"
  },
  "language_info": {
   "file_extension": ".js",
   "mimetype": "text/javascript",
   "name": "javascript",
   "version": ""
  },
  "orig_nbformat": 4
 },
 "nbformat": 4,
 "nbformat_minor": 2
}
