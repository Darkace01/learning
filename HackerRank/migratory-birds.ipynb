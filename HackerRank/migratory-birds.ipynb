{
 "cells": [
  {
   "cell_type": "code",
   "execution_count": 12,
   "metadata": {
    "vscode": {
     "languageId": "javascript"
    }
   },
   "outputs": [
    {
     "name": "stdout",
     "output_type": "stream",
     "text": [
      "[ [ 1, 1 ], [ 2, 1 ], [ 3, 2 ], [ 4, 2 ] ]\n"
     ]
    }
   ],
   "source": [
    "const migratoryBirds = (arr) => {\n",
    "    arr = arr.sort((a,b) => a-b)\n",
    "    if (arr.length == 1) {\n",
    "        return arr[0];\n",
    "    }\n",
    "    let stringMap = new Map();\n",
    "    for (let i = 0; i < arr.length; i++){\n",
    "        if (stringMap.get(arr[i]) !== undefined) {\n",
    "            stringMap.set(arr[i],stringMap.get(arr[i]) + 1);\n",
    "        }else{\n",
    "            stringMap.set(arr[i],0);\n",
    "        }\n",
    "    }\n",
    "    let total = [...stringMap].filter(x => x[1] !== 0);\n",
    "    \n",
    "}\n",
    "migratoryBirds([1, 2, 3, 4, 5, 4, 3, 2, 1, 3, 4]);"
   ]
  },
  {
   "cell_type": "code",
   "execution_count": null,
   "metadata": {},
   "outputs": [],
   "source": [
    "def migratoryBirds(arr):\n",
    "    a = 0\n",
    "    b = 0\n",
    "    c = 0\n",
    "\n",
    "    arr = sorted(arr)\n",
    "    a = arr[0]\n",
    "\n",
    "    for i in range(len(arr)):\n",
    "        if arr[i] != a:\n",
    "            c += 1\n",
    "            if (b < c and a < arr[i]):\n",
    "                a = arr[i]\n",
    "                b = c\n",
    "        if arr[i] == a:\n",
    "            b += 1\n",
    "        \n",
    "    \n",
    "    return a\n",
    "    "
   ]
  }
 ],
 "metadata": {
  "interpreter": {
   "hash": "8e284ee3255a07ad8bf76694974743c4c81cb57e7c969474d752d949b11d721e"
  },
  "kernelspec": {
   "display_name": "Python 3.9.13 64-bit",
   "language": "python",
   "name": "python3"
  },
  "language_info": {
   "file_extension": ".js",
   "mimetype": "text/javascript",
   "name": "python",
   "version": "3.9.13"
  },
  "orig_nbformat": 4
 },
 "nbformat": 4,
 "nbformat_minor": 2
}
