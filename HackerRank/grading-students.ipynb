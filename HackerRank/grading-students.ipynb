{
 "cells": [
  {
   "cell_type": "markdown",
   "metadata": {},
   "source": [
    "HackerLand University has the following grading policy:\n",
    "\n",
    "Every student receives a  in the inclusive range from  to .\n",
    "Any  less than  is a failing grade.\n",
    "Sam is a professor at the university and likes to round each student's  according to these rules:\n",
    "\n",
    "If the difference between the  and the next multiple of  is less than , round  up to the next multiple of .\n",
    "If the value of  is less than , no rounding occurs as the result will still be a failing grade."
   ]
  },
  {
   "cell_type": "code",
   "execution_count": 12,
   "metadata": {},
   "outputs": [
    {
     "name": "stdout",
     "output_type": "stream",
     "text": [
      "3\n",
      "[ 75, 60, 38, 33 ]\n"
     ]
    }
   ],
   "source": [
    "function gradingStudents(grades) {\n",
    "    // Write your code here\n",
    "    let arr = [];\n",
    "    grades.forEach(grade => {\n",
    "        if (grade < 38) {\n",
    "            arr.push(grade);\n",
    "        }\n",
    "        else {\n",
    "            if (grade % 5 === 0) {\n",
    "                arr.push(grade);\n",
    "            }\n",
    "            else {\n",
    "                let rem = grade % 5;\n",
    "                if ((5 - rem) < 3) {\n",
    "                    grade += 5 - rem;\n",
    "                    arr.push(grade);\n",
    "                } else {\n",
    "                    arr.push(grade);\n",
    "                }\n",
    "            }\n",
    "        }\n",
    "    });\n",
    "    return arr;\n",
    "}\n",
    "\n",
    "gradingStudents([73,60,38,33])"
   ]
  }
 ],
 "metadata": {
  "kernelspec": {
   "display_name": "JavaScript",
   "language": "javascript",
   "name": "jslab"
  },
  "language_info": {
   "file_extension": ".js",
   "mimetype": "text/javascript",
   "name": "javascript",
   "version": ""
  },
  "orig_nbformat": 4
 },
 "nbformat": 4,
 "nbformat_minor": 2
}
