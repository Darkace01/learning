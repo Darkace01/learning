{
 "cells": [
  {
   "cell_type": "code",
   "execution_count": null,
   "metadata": {},
   "outputs": [],
   "source": [
    "function sockMerchant(n, ar) {\n",
    "    // Write your code here\n",
    "    ar = ar.sort((a, b) => b - a);\n",
    "    console.log(ar);\n",
    "    let stringMap = new Map();\n",
    "    for (let i = 0; i < ar.length; i++){\n",
    "        if (stringMap.get(ar[i]) !== undefined) {\n",
    "            stringMap.set(ar[i],stringMap.get(ar[i]) + 1);\n",
    "        }else{\n",
    "            stringMap.set(ar[i],0);\n",
    "        }\n",
    "    }\n",
    "    return [...stringMap.values()].filter(x => x[1] !== 0)\n",
    "}\n",
    "sockMerchant(9,[10, 20, 20, 10, 10, 30, 50, 10, 20])"
   ]
  },
  {
   "cell_type": "code",
   "execution_count": 10,
   "metadata": {},
   "outputs": [
    {
     "name": "stdout",
     "output_type": "stream",
     "text": [
      "1\n",
      "1\n",
      "2\n",
      "4\n",
      "7\n",
      "11\n",
      "16\n",
      "22\n",
      "8\n"
     ]
    }
   ],
   "source": [
    "function sockMerchant(n, ar) {\n",
    "    // Write your code here\n",
    "    ar = ar.sort((a, b) => a-b);\n",
    "    let total = 0,lastIndex = 0;\n",
    "    for (let i = 0; i < ar.length; i++){\n",
    "        if (ar[i + 1]) {\n",
    "            console.log(lastIndex+1)\n",
    "            if (ar[lastIndex+i] === ar[i +lastIndex]) {\n",
    "                total++;\n",
    "            }\n",
    "            lastIndex = i + lastIndex;\n",
    "        }\n",
    "    }\n",
    "    return total;\n",
    "}\n",
    "sockMerchant(9,[10, 20, 20, 10, 10, 30, 50, 10, 20])"
   ]
  }
 ],
 "metadata": {
  "kernelspec": {
   "display_name": "JavaScript",
   "language": "javascript",
   "name": "jslab"
  },
  "language_info": {
   "file_extension": ".js",
   "mimetype": "text/javascript",
   "name": "javascript",
   "version": ""
  },
  "orig_nbformat": 4
 },
 "nbformat": 4,
 "nbformat_minor": 2
}
