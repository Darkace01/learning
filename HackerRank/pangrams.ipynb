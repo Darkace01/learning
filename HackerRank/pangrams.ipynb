{
 "cells": [
  {
   "cell_type": "markdown",
   "metadata": {},
   "source": [
    "A pangram is a string that contains every letter of the alphabet. Given a sentence determine whether it is a pangram in the English alphabet. Ignore case. Return either pangram or not pangram as appropriate."
   ]
  },
  {
   "cell_type": "code",
   "execution_count": null,
   "metadata": {},
   "outputs": [],
   "source": [
    "function pangrams(s) {\n",
    "    // Write your code here\n",
    "    let arr = [];\n",
    "    let isPangram = true;\n",
    "    for (let j = 0; j < 26; j++){\n",
    "        arr[j] = 0;\n",
    "    }\n",
    "    for (let i = 0; i < s.length; i++){\n",
    "        if (s[i] !== ' ') {\n",
    "            let position = s[i].toLowerCase().charCodeAt(0) - 97;\n",
    "            if (arr[position] === undefined) {\n",
    "                arr[position] = 1\n",
    "            } else {\n",
    "                arr[position] = arr[position] + 1\n",
    "            }            \n",
    "        }\n",
    "    }\n",
    "    for (let k = 0; k < arr.length; k++){\n",
    "        if (arr[k] === 0) {\n",
    "            isPangram = false;\n",
    "        }\n",
    "    }\n",
    "    return isPangram ? \"pangram\": \"not pangram\";\n",
    "}\n",
    "\n",
    "pangrams('We promptly judged antique ivory buckles for the next prize')"
   ]
  }
 ],
 "metadata": {
  "kernelspec": {
   "display_name": "JavaScript",
   "language": "javascript",
   "name": "jslab"
  },
  "language_info": {
   "file_extension": ".js",
   "mimetype": "text/javascript",
   "name": "javascript",
   "version": ""
  },
  "orig_nbformat": 4
 },
 "nbformat": 4,
 "nbformat_minor": 2
}
