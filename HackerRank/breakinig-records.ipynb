{
 "cells": [
  {
   "cell_type": "markdown",
   "metadata": {},
   "source": [
    "Maria plays college basketball and wants to go pro. Each season she maintains a record of her play. She tabulates the number of times she breaks her season record for most points and least points in a game. Points scored in the first game establish her record for the season, and she begins counting from there."
   ]
  },
  {
   "cell_type": "code",
   "execution_count": null,
   "metadata": {},
   "outputs": [],
   "source": [
    "function breakingRecords(scores) {\n",
    "    // Write your code here\n",
    "    let minCount = 0;\n",
    "    let maxCount = 0;\n",
    "    let min = scores[0];\n",
    "    let max = scores[0];\n",
    "\n",
    "    for (let i = 0; i < scores.length; i++){\n",
    "        if (scores[i] < min) {\n",
    "            minCount++;\n",
    "            min = scores[i];\n",
    "        }\n",
    "\n",
    "        if (scores[i] > max) {\n",
    "            maxCount++;\n",
    "            max = scores[i];\n",
    "        }\n",
    "    }\n",
    "\n",
    "    return [maxCount, minCount];\n",
    "}\n",
    "\n",
    "breakingRecords([\n",
    "    10, 5, 20, 20, 4,\n",
    "    5, 2, 25, 1\n",
    "]);"
   ]
  }
 ],
 "metadata": {
  "kernelspec": {
   "display_name": "JavaScript",
   "language": "javascript",
   "name": "jslab"
  },
  "language_info": {
   "file_extension": ".js",
   "mimetype": "text/javascript",
   "name": "javascript",
   "version": ""
  },
  "orig_nbformat": 4
 },
 "nbformat": 4,
 "nbformat_minor": 2
}
