{
 "cells": [
  {
   "cell_type": "markdown",
   "metadata": {},
   "source": [
    "A space explorer's ship crashed on Mars! They send a series of SOS messages to Earth for help.\n",
    "\n",
    "NASA_Mars_Rover.jpg\n",
    "\n",
    "Letters in some of the SOS messages are altered by cosmic radiation during transmission. Given the signal received by Earth as a string, , determine how many letters of the SOS message have been changed by radiation."
   ]
  },
  {
   "cell_type": "code",
   "execution_count": null,
   "metadata": {},
   "outputs": [],
   "source": [
    "function marsExploration(s) {\n",
    "    // Write your code here\n",
    "    let count = 0;\n",
    "    for (let i = 0; i < s.length; i += 3){\n",
    "        if(s[i + 0] !== 'S') count++;\n",
    "        if(s[i + 1] !== 'O') count++;\n",
    "        if(s[i + 2] !== 'S') count++;\n",
    "    }\n",
    "    return count;\n",
    "}\n",
    "marsExploration('SOSSPSSQSSOR');"
   ]
  }
 ],
 "metadata": {
  "kernelspec": {
   "display_name": "JavaScript",
   "language": "javascript",
   "name": "jslab"
  },
  "language_info": {
   "file_extension": ".js",
   "mimetype": "text/javascript",
   "name": "javascript",
   "version": ""
  },
  "orig_nbformat": 4
 },
 "nbformat": 4,
 "nbformat_minor": 2
}
