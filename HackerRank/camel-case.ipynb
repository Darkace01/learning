{
 "cells": [
  {
   "cell_type": "markdown",
   "metadata": {},
   "source": [
    "# Camel Case\n",
    "Camel Case is a naming style common in many programming languages. In Java, method and variable names typically start with a lowercase letter, with all subsequent words starting with a capital letter (example: startThread). Names of classes follow the same pattern, except that they start with a capital letter (example: BlueCar).\n",
    "\n",
    "Your task is to write a program that creates or splits Camel Case variable, method, and class names.\n",
    "\n",
    "### Input Format\n",
    "\n",
    "Each line of the input file will begin with an operation (S or C) followed by a semi-colon followed by M, C, or V followed by a semi-colon followed by the words you'll need to operate on.\n",
    "The operation will either be S (split) or C (combine)\n",
    "M indicates method, C indicates class, and V indicates variable\n",
    "In the case of a split operation, the words will be a camel case method, class or variable name that you need to split into a space-delimited list of words starting with a lowercase letter.\n",
    "In the case of a combine operation, the words will be a space-delimited list of words starting with lowercase letters that you need to combine into the appropriate camel case String. Methods should end with an empty set of parentheses to differentiate them from variable names.\n",
    "\n",
    "### Output Format\n",
    "\n",
    "For each input line, your program should print either the space-delimited list of words (in the case of a split operation) or the appropriate camel case string (in the case of a combine operation).\n",
    "Sample Input\n",
    "\n",
    "S;M;plasticCup()\n",
    "\n",
    "C;V;mobile phone\n",
    "\n",
    "C;C;coffee machine\n",
    "\n",
    "S;C;LargeSoftwareBook\n",
    "\n",
    "C;M;white sheet of paper\n",
    "\n",
    "S;V;pictureFrame\n",
    "\n",
    "### Sample Output\n",
    "\n",
    "plastic cup\n",
    "\n",
    "mobilePhone\n",
    "\n",
    "CoffeeMachine\n",
    "\n",
    "large software book\n",
    "\n",
    "whiteSheetOfPaper()\n",
    "\n",
    "picture frame\n",
    "\n",
    "### Explanation\n",
    "\n",
    "Use Scanner to read in all information as if it were coming from the keyboard.\n",
    "\n",
    "Print all information to the console using standard output (System.out.print() or System.out.println()).\n",
    "\n",
    "Outputs must be exact (exact spaces and casing)."
   ]
  },
  {
   "cell_type": "code",
   "execution_count": null,
   "metadata": {},
   "outputs": [],
   "source": [
    "function processData(input) {\n",
    "    //Enter your code here\n",
    "    input.split(/\\r?\\n/).filter(element => element);\n",
    "} \n",
    "\n",
    "const "
   ]
  }
 ],
 "metadata": {
  "kernelspec": {
   "display_name": "JavaScript",
   "language": "javascript",
   "name": "jslab"
  },
  "language_info": {
   "name": "javascript"
  },
  "orig_nbformat": 4
 },
 "nbformat": 4,
 "nbformat_minor": 2
}
