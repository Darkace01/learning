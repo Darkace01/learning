{
 "cells": [
  {
   "cell_type": "code",
   "execution_count": 20,
   "metadata": {},
   "outputs": [
    {
     "name": "stdout",
     "output_type": "stream",
     "text": [
      "1\n",
      "0\n"
     ]
    }
   ],
   "source": [
    "function pageCount(n, p) {\n",
    "    // Write your code here\n",
    "    let page1 = 0,page2 = 0;\n",
    "    let isCorrect = false,isCorrect2 = false;\n",
    "    let i = 0,j= n;\n",
    "    while (isCorrect === false) {\n",
    "        if ((i === p) || (i + 1 === p)) {\n",
    "            isCorrect = true;\n",
    "        }\n",
    "        ++page1;\n",
    "        i += 2;\n",
    "    }\n",
    "    while (isCorrect2 === false) {\n",
    "        if ((j === p) || (j - 1 === p)) {\n",
    "            isCorrect2 = true;\n",
    "        }\n",
    "        ++page2;\n",
    "        j -= 2;\n",
    "    }\n",
    "    let count = page1 > page2 ? page2 : page1;\n",
    "    console.log(count);\n",
    "    return count - 1;\n",
    "}\n",
    "pageCount(5,4)"
   ]
  },
  {
   "cell_type": "code",
   "execution_count": 27,
   "metadata": {},
   "outputs": [
    {
     "name": "stdout",
     "output_type": "stream",
     "text": [
      "0\n"
     ]
    }
   ],
   "source": [
    "const pageCount2 = (n, p) => {\n",
    "    let tlr = Math.round(n / 2);\n",
    "    let plr = Math.round(p / 2);\n",
    "    let trl = Math.floor((n/2) - (p/2))\n",
    "    return plr > trl ? trl : plr;\n",
    "}\n",
    "\n",
    "pageCount2(5,4)"
   ]
  }
 ],
 "metadata": {
  "kernelspec": {
   "display_name": "JavaScript",
   "language": "javascript",
   "name": "jslab"
  },
  "language_info": {
   "file_extension": ".js",
   "mimetype": "text/javascript",
   "name": "javascript",
   "version": ""
  },
  "orig_nbformat": 4
 },
 "nbformat": 4,
 "nbformat_minor": 2
}
