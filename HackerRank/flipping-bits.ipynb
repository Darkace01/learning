{
 "cells": [
  {
   "cell_type": "markdown",
   "metadata": {},
   "source": [
    "You will be given a list of 32 bit unsigned integers. Flip all the bits ( and ) and return the result as an unsigned integer."
   ]
  },
  {
   "cell_type": "code",
   "execution_count": null,
   "metadata": {},
   "outputs": [],
   "source": [
    "const convertToBinary = (n) => {\n",
    "    let num = number;\n",
    "    let binary = (num % 2).toString();\n",
    "    for (; num > 1; ) {\n",
    "        num = parseInt(num / 2);\n",
    "        binary =  (num % 2) + (binary);\n",
    "    } \n",
    "}"
   ]
  }
 ],
 "metadata": {
  "kernelspec": {
   "display_name": "JavaScript",
   "language": "javascript",
   "name": "jslab"
  },
  "language_info": {
   "name": "javascript"
  },
  "orig_nbformat": 4
 },
 "nbformat": 4,
 "nbformat_minor": 2
}
