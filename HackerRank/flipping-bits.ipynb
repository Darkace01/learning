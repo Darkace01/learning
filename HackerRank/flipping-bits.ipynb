{
 "cells": [
  {
   "cell_type": "markdown",
   "metadata": {},
   "source": [
    "You will be given a list of 32 bit unsigned integers. Flip all the bits ( and ) and return the result as an unsigned integer."
   ]
  },
  {
   "cell_type": "code",
   "execution_count": null,
   "metadata": {},
   "outputs": [],
   "source": [
    "\n",
    "function flippingBits(n) {\n",
    "    // Write your code here\n",
    "    let binary = [];\n",
    "    n.forEach((element,index) => {\n",
    "        binary[index] = convertToBinary(element);\n",
    "    });\n",
    "    return binary;\n",
    "}\n",
    "const convertToBinary = (n) => {\n",
    "    let total = [];\n",
    "    let remainder = 1;\n",
    "    let num = n;\n",
    "    while (remainder > 0.9) {\n",
    "        num = num / 2;\n",
    "        remainder = num / 2;\n",
    "        total.push(num % 2);\n",
    "    }\n",
    "    console.log(total);\n",
    "    return Number(total.join());\n",
    "}\n",
    "\n",
    "flippingBits([2147483647,1,0])"
   ]
  }
 ],
 "metadata": {
  "kernelspec": {
   "display_name": "JavaScript",
   "language": "javascript",
   "name": "jslab"
  },
  "language_info": {
   "file_extension": ".js",
   "mimetype": "text/javascript",
   "name": "javascript",
   "version": ""
  },
  "orig_nbformat": 4
 },
 "nbformat": 4,
 "nbformat_minor": 2
}
